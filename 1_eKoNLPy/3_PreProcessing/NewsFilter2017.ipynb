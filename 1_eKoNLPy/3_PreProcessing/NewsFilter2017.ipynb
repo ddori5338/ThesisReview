{
 "cells": [
  {
   "cell_type": "code",
   "execution_count": 2,
   "metadata": {},
   "outputs": [],
   "source": [
    "# 필요한 모듈 임포트\n",
    "import pandas as pd\n",
    "import re"
   ]
  },
  {
   "cell_type": "code",
   "execution_count": 2,
   "metadata": {},
   "outputs": [],
   "source": [
    "path='C:\\\\Users\\\\student\\\\Documents\\\\Thesis\\\\1_eKoNLPy\\\\0_BOK data\\\\0_rawData\\\\news crawling\\\\csv\\\\'\n",
    "df2017= pd.read_csv(path + '20170101-20171231.csv')"
   ]
  },
  {
   "cell_type": "code",
   "execution_count": 115,
   "metadata": {},
   "outputs": [
    {
     "name": "stdout",
     "output_type": "stream",
     "text": [
      "https://news.naver.com/main/read.nhn?mode=LSD&mid=sec&sid1=101&oid=001&aid=0008962994\n"
     ]
    }
   ],
   "source": [
    "print(df2017['href'][54])"
   ]
  },
  {
   "cell_type": "code",
   "execution_count": 116,
   "metadata": {},
   "outputs": [
    {
     "name": "stdout",
     "output_type": "stream",
     "text": [
      "작년 12월 '잔액코픽스' 1.62%…전달과 같은 보합세 기록신규코픽스는 넉달 째 상승…내일부터 은행권 주담대 금리에 반영(서울=연합뉴스) 송광호 기자 = 은행권 주택담보대출의 기준 역할을 하는 잔액기준 코픽스 금리가 60개월만에 하락세를 멈췄다.시장금리를 반영해 주택담보대출에 즉각적인 영향을 미치는 신규코픽스 금리는 넉달 연속 상승세를 탔다.금리 인상이 본격화하는 국면인 셈이다.16일 전국은행연합회에 따르면 지난해 12월 잔액기준 코픽스는 1.62%로 전월인 11월과 같은 보합세를 보였다.이에 따라 2012년 11월 3.97%를 기록한 이래로 계속해서 떨어져 왔던 잔액기준 코픽스가 5년 만에 하락세를 멈췄다.잔액기준은 시장금리 변동을 서서히 반영하는 반면, 신규코픽스는 상대적으로 시장금리를 빨리 반영한다는 특징이 있다.은행연합회 관계자는 \"최근 신규코픽스가 상승하면서 시장금리 상승분이 누적돼 잔액기준 코픽스까지 하락세가 멈췄다\"고 말했다.신규코픽스가 상승하는 가운데 잔액기준 코픽스마저 하락세를 마무리함에 따라 코픽스와 연동된 주택담보대출은 지속적으로 상승할 가능성이 커졌다.12월 신규코픽스는 11월 코픽스(1.51%)보다 0.05%포인트 상승한 1.56%를 기록했다.이로써 신규 코픽스는 지난 9월 오름세로 전환한 이후 연속 상승세를 유지했다. 넉달 간 0.29%포인트나 뛰었다.신규취급액 코픽스는 월중 신규로 조달한 자금을 대상으로 선출돼 잔액기준 코픽스보다 시장금리 변동을 빠르게 반영한다.신규코픽스 상승으로 당장 16일부터 시중은행의 코픽스 주택담보대출이 상승할 전망이다.KB국민·KEB하나·신한·우리·농협은행 등 5대 시중은행의 11월 주택담보대출(만기 10년 이상 분할상환식) 평균금리는 연 3.28%다.코픽스는 국내 8개 은행의 정기 예·적금, 상호부금, 주택부금, 양도성예금증서(CD) 등 수신금리를 잔액비중에 따라 가중평균해 산출한다\n"
     ]
    }
   ],
   "source": [
    "print(df2017['content'][54])"
   ]
  },
  {
   "cell_type": "code",
   "execution_count": 154,
   "metadata": {},
   "outputs": [],
   "source": [
    "def filter2017(text):\n",
    "    # for edaily, 연합뉴스\n",
    "#     chk1 = re.sub(r'\\($'|r'\\w{0,3}\\s?\\(\\)$','',text)\n",
    "    filtered_text = re.sub(r'\\($\\\n",
    "                           |\\w{0,3}\\s?\\(\\)$\\\n",
    "                           |\\(.{0,5}=\\s?(연합뉴스|연합인포맥스)\\).{0,15}\\s?=\\s?\\\n",
    "                           |\\(.{0,5}=\\s?(연합뉴스|연합인포맥스)\\)\\s?\\\n",
    "                           |\\[이데일리.{0,11}\\]\\\n",
    "                           |\\증권부 \\(edaily.co.kr\\)\\\n",
    "                           |☞\\w*\\\n",
    "                           |\\[.{0,3}=?.{0,5}자료사진\\]\\\n",
    "                           |\\(자료사진\\)\\\n",
    "                           |\\<.*모습\\>\\\n",
    "                           |전문보기:.http:\\/\\/yna.kr\\/\\w*-?\\w*\\\n",
    "                           |\\[\\w*\\s?제공=?\\w{0,4}\\]\\\n",
    "                           |#흥 내 생활에 흥! (클릭해보면 hot hot!)','', text)\n",
    "    return filtered_text"
   ]
  },
  {
   "cell_type": "code",
   "execution_count": 155,
   "metadata": {},
   "outputs": [
    {
     "data": {
      "text/plain": [
       "str"
      ]
     },
     "execution_count": 155,
     "metadata": {},
     "output_type": "execute_result"
    }
   ],
   "source": [
    "text=str(df2017['content'][54])\n",
    "type(text)"
   ]
  },
  {
   "cell_type": "code",
   "execution_count": 156,
   "metadata": {},
   "outputs": [],
   "source": [
    "filtered_text = filter2017(text)"
   ]
  },
  {
   "cell_type": "code",
   "execution_count": 157,
   "metadata": {},
   "outputs": [
    {
     "data": {
      "text/plain": [
       "'작년 12월 \\'잔액코픽스\\' 1.62%…전달과 같은 보합세 기록신규코픽스는 넉달 째 상승…내일부터 은행권 주담대 금리에 반영(서울=연합뉴스) 송광호 기자 = 은행권 주택담보대출의 기준 역할을 하는 잔액기준 코픽스 금리가 60개월만에 하락세를 멈췄다.시장금리를 반영해 주택담보대출에 즉각적인 영향을 미치는 신규코픽스 금리는 넉달 연속 상승세를 탔다.금리 인상이 본격화하는 국면인 셈이다.16일 전국은행연합회에 따르면 지난해 12월 잔액기준 코픽스는 1.62%로 전월인 11월과 같은 보합세를 보였다.이에 따라 2012년 11월 3.97%를 기록한 이래로 계속해서 떨어져 왔던 잔액기준 코픽스가 5년 만에 하락세를 멈췄다.잔액기준은 시장금리 변동을 서서히 반영하는 반면, 신규코픽스는 상대적으로 시장금리를 빨리 반영한다는 특징이 있다.은행연합회 관계자는 \"최근 신규코픽스가 상승하면서 시장금리 상승분이 누적돼 잔액기준 코픽스까지 하락세가 멈췄다\"고 말했다.신규코픽스가 상승하는 가운데 잔액기준 코픽스마저 하락세를 마무리함에 따라 코픽스와 연동된 주택담보대출은 지속적으로 상승할 가능성이 커졌다.12월 신규코픽스는 11월 코픽스(1.51%)보다 0.05%포인트 상승한 1.56%를 기록했다.이로써 신규 코픽스는 지난 9월 오름세로 전환한 이후 연속 상승세를 유지했다. 넉달 간 0.29%포인트나 뛰었다.신규취급액 코픽스는 월중 신규로 조달한 자금을 대상으로 선출돼 잔액기준 코픽스보다 시장금리 변동을 빠르게 반영한다.신규코픽스 상승으로 당장 16일부터 시중은행의 코픽스 주택담보대출이 상승할 전망이다.KB국민·KEB하나·신한·우리·농협은행 등 5대 시중은행의 11월 주택담보대출(만기 10년 이상 분할상환식) 평균금리는 연 3.28%다.코픽스는 국내 8개 은행의 정기 예·적금, 상호부금, 주택부금, 양도성예금증서(CD) 등 수신금리를 잔액비중에 따라 가중평균해 산출한다'"
      ]
     },
     "execution_count": 157,
     "metadata": {},
     "output_type": "execute_result"
    }
   ],
   "source": [
    "filtered_text"
   ]
  },
  {
   "cell_type": "code",
   "execution_count": null,
   "metadata": {},
   "outputs": [],
   "source": []
  }
 ],
 "metadata": {
  "kernelspec": {
   "display_name": "Python 3",
   "language": "python",
   "name": "python3"
  },
  "language_info": {
   "codemirror_mode": {
    "name": "ipython",
    "version": 3
   },
   "file_extension": ".py",
   "mimetype": "text/x-python",
   "name": "python",
   "nbconvert_exporter": "python",
   "pygments_lexer": "ipython3",
   "version": "3.7.3"
  }
 },
 "nbformat": 4,
 "nbformat_minor": 2
}
