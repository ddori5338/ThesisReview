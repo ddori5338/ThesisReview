{
 "cells": [
  {
   "cell_type": "code",
   "execution_count": 17,
   "metadata": {},
   "outputs": [],
   "source": [
    "import re\n",
    "from tika import parser\n",
    "import shutil\n",
    "import os "
   ]
  },
  {
   "cell_type": "code",
   "execution_count": 18,
   "metadata": {},
   "outputs": [
    {
     "data": {
      "text/plain": [
       "'C:\\\\Users\\\\student\\\\Documents\\\\Thesis\\\\1_eKoNLPy\\\\1_PreparingCorpus\\\\MPB_Minutes'"
      ]
     },
     "execution_count": 18,
     "metadata": {},
     "output_type": "execute_result"
    }
   ],
   "source": [
    "os.getcwd()"
   ]
  },
  {
   "cell_type": "code",
   "execution_count": 23,
   "metadata": {},
   "outputs": [
    {
     "ename": "SyntaxError",
     "evalue": "EOL while scanning string literal (<ipython-input-23-8f4039f37925>, line 5)",
     "output_type": "error",
     "traceback": [
      "\u001b[1;36m  File \u001b[1;32m\"<ipython-input-23-8f4039f37925>\"\u001b[1;36m, line \u001b[1;32m5\u001b[0m\n\u001b[1;33m    a= parser.from_file('C:\\Users\\student\\Documents\\Thesis\\1_eKoNLPy\\1_PreparingCorpus\\MPB_Minutes\\Minutes(pdf)\\'+pdf)\u001b[0m\n\u001b[1;37m                                                                                                                      ^\u001b[0m\n\u001b[1;31mSyntaxError\u001b[0m\u001b[1;31m:\u001b[0m EOL while scanning string literal\n"
     ]
    }
   ],
   "source": [
    "\n",
    "\n",
    "\n",
    "    a= parser.from_file(r\"\\Minutes(pdf)\\\"+pdf)"
   ]
  },
  {
   "cell_type": "code",
   "execution_count": 26,
   "metadata": {},
   "outputs": [
    {
     "name": "stderr",
     "output_type": "stream",
     "text": [
      "2019-07-15 20:13:41,802 [MainThread  ] [INFO ]  Retrieving http://search.maven.org/remotecontent?filepath=org/apache/tika/tika-server/1.19/tika-server-1.19.jar.md5 to C:\\Users\\student\\AppData\\Local\\Temp\\tika-server.jar.md5.\n",
      "2019-07-15 20:13:42,432 [MainThread  ] [INFO ]  Retrieving http://search.maven.org/remotecontent?filepath=org/apache/tika/tika-server/1.19/tika-server-1.19.jar to C:\\Users\\student\\AppData\\Local\\Temp\\tika-server.jar.\n"
     ]
    },
    {
     "ename": "KeyboardInterrupt",
     "evalue": "",
     "output_type": "error",
     "traceback": [
      "\u001b[1;31m---------------------------------------------------------------------------\u001b[0m",
      "\u001b[1;31mKeyboardInterrupt\u001b[0m                         Traceback (most recent call last)",
      "\u001b[1;32m<ipython-input-26-affecdee1f59>\u001b[0m in \u001b[0;36m<module>\u001b[1;34m\u001b[0m\n\u001b[0;32m      1\u001b[0m \u001b[0mpdfList\u001b[0m\u001b[1;33m=\u001b[0m\u001b[0mos\u001b[0m\u001b[1;33m.\u001b[0m\u001b[0mlistdir\u001b[0m\u001b[1;33m(\u001b[0m\u001b[1;34mr\"Minutes(pdf)\"\u001b[0m\u001b[1;33m)\u001b[0m\u001b[1;33m\u001b[0m\u001b[1;33m\u001b[0m\u001b[0m\n\u001b[0;32m      2\u001b[0m \u001b[1;32mfor\u001b[0m \u001b[0mpdf\u001b[0m \u001b[1;32min\u001b[0m \u001b[0mpdfList\u001b[0m\u001b[1;33m:\u001b[0m\u001b[1;33m\u001b[0m\u001b[1;33m\u001b[0m\u001b[0m\n\u001b[1;32m----> 3\u001b[1;33m     \u001b[0ma\u001b[0m\u001b[1;33m=\u001b[0m\u001b[0mparser\u001b[0m\u001b[1;33m.\u001b[0m\u001b[0mfrom_file\u001b[0m\u001b[1;33m(\u001b[0m\u001b[1;34mr'C:\\Users\\student\\Documents\\Thesis\\1_eKoNLPy\\1_PreparingCorpus\\MPB_Minutes\\Minutes(pdf)\\{}'\u001b[0m\u001b[1;33m.\u001b[0m\u001b[0mformat\u001b[0m\u001b[1;33m(\u001b[0m\u001b[0mpdf\u001b[0m\u001b[1;33m)\u001b[0m\u001b[1;33m)\u001b[0m\u001b[1;33m[\u001b[0m\u001b[1;34m'content'\u001b[0m\u001b[1;33m]\u001b[0m\u001b[1;33m\u001b[0m\u001b[1;33m\u001b[0m\u001b[0m\n\u001b[0m\u001b[0;32m      4\u001b[0m     \u001b[0mprint\u001b[0m\u001b[1;33m(\u001b[0m\u001b[0ma\u001b[0m\u001b[1;33m)\u001b[0m\u001b[1;33m\u001b[0m\u001b[1;33m\u001b[0m\u001b[0m\n",
      "\u001b[1;32mC:\\ProgramData\\Anaconda3\\lib\\site-packages\\tika\\parser.py\u001b[0m in \u001b[0;36mfrom_file\u001b[1;34m(filename, serverEndpoint, xmlContent, headers, config_path)\u001b[0m\n\u001b[0;32m     34\u001b[0m     '''\n\u001b[0;32m     35\u001b[0m     \u001b[1;32mif\u001b[0m \u001b[1;32mnot\u001b[0m \u001b[0mxmlContent\u001b[0m\u001b[1;33m:\u001b[0m\u001b[1;33m\u001b[0m\u001b[1;33m\u001b[0m\u001b[0m\n\u001b[1;32m---> 36\u001b[1;33m         \u001b[0mjsonOutput\u001b[0m \u001b[1;33m=\u001b[0m \u001b[0mparse1\u001b[0m\u001b[1;33m(\u001b[0m\u001b[1;34m'all'\u001b[0m\u001b[1;33m,\u001b[0m \u001b[0mfilename\u001b[0m\u001b[1;33m,\u001b[0m \u001b[0mserverEndpoint\u001b[0m\u001b[1;33m,\u001b[0m \u001b[0mheaders\u001b[0m\u001b[1;33m=\u001b[0m\u001b[0mheaders\u001b[0m\u001b[1;33m,\u001b[0m \u001b[0mconfig_path\u001b[0m\u001b[1;33m=\u001b[0m\u001b[0mconfig_path\u001b[0m\u001b[1;33m)\u001b[0m\u001b[1;33m\u001b[0m\u001b[1;33m\u001b[0m\u001b[0m\n\u001b[0m\u001b[0;32m     37\u001b[0m     \u001b[1;32melse\u001b[0m\u001b[1;33m:\u001b[0m\u001b[1;33m\u001b[0m\u001b[1;33m\u001b[0m\u001b[0m\n\u001b[0;32m     38\u001b[0m         jsonOutput = parse1('all', filename, serverEndpoint, services={'meta': '/meta', 'text': '/tika', 'all': '/rmeta/xml'},\n",
      "\u001b[1;32mC:\\ProgramData\\Anaconda3\\lib\\site-packages\\tika\\tika.py\u001b[0m in \u001b[0;36mparse1\u001b[1;34m(option, urlOrPath, serverEndpoint, verbose, tikaServerJar, responseMimeType, services, rawResponse, headers, config_path)\u001b[0m\n\u001b[0;32m    326\u001b[0m     \u001b[1;32mif\u001b[0m \u001b[0mservice\u001b[0m \u001b[1;33m==\u001b[0m \u001b[1;34m'/tika'\u001b[0m\u001b[1;33m:\u001b[0m \u001b[0mresponseMimeType\u001b[0m \u001b[1;33m=\u001b[0m \u001b[1;34m'text/plain'\u001b[0m\u001b[1;33m\u001b[0m\u001b[1;33m\u001b[0m\u001b[0m\n\u001b[0;32m    327\u001b[0m     status, response = callServer('put', serverEndpoint, service, open(path, 'rb'),\n\u001b[1;32m--> 328\u001b[1;33m                                   headers, verbose, tikaServerJar, config_path=config_path, rawResponse=rawResponse)\n\u001b[0m\u001b[0;32m    329\u001b[0m \u001b[1;33m\u001b[0m\u001b[0m\n\u001b[0;32m    330\u001b[0m     \u001b[1;32mif\u001b[0m \u001b[0mfile_type\u001b[0m \u001b[1;33m==\u001b[0m \u001b[1;34m'remote'\u001b[0m\u001b[1;33m:\u001b[0m \u001b[0mos\u001b[0m\u001b[1;33m.\u001b[0m\u001b[0munlink\u001b[0m\u001b[1;33m(\u001b[0m\u001b[0mpath\u001b[0m\u001b[1;33m)\u001b[0m\u001b[1;33m\u001b[0m\u001b[1;33m\u001b[0m\u001b[0m\n",
      "\u001b[1;32mC:\\ProgramData\\Anaconda3\\lib\\site-packages\\tika\\tika.py\u001b[0m in \u001b[0;36mcallServer\u001b[1;34m(verb, serverEndpoint, service, data, headers, verbose, tikaServerJar, httpVerbs, classpath, rawResponse, config_path)\u001b[0m\n\u001b[0;32m    520\u001b[0m     \u001b[1;32mglobal\u001b[0m \u001b[0mTikaClientOnly\u001b[0m\u001b[1;33m\u001b[0m\u001b[1;33m\u001b[0m\u001b[0m\n\u001b[0;32m    521\u001b[0m     \u001b[1;32mif\u001b[0m \u001b[1;32mnot\u001b[0m \u001b[0mTikaClientOnly\u001b[0m\u001b[1;33m:\u001b[0m\u001b[1;33m\u001b[0m\u001b[1;33m\u001b[0m\u001b[0m\n\u001b[1;32m--> 522\u001b[1;33m         \u001b[0mserverEndpoint\u001b[0m \u001b[1;33m=\u001b[0m \u001b[0mcheckTikaServer\u001b[0m\u001b[1;33m(\u001b[0m\u001b[0mscheme\u001b[0m\u001b[1;33m,\u001b[0m \u001b[0mserverHost\u001b[0m\u001b[1;33m,\u001b[0m \u001b[0mport\u001b[0m\u001b[1;33m,\u001b[0m \u001b[0mtikaServerJar\u001b[0m\u001b[1;33m,\u001b[0m \u001b[0mclasspath\u001b[0m\u001b[1;33m,\u001b[0m \u001b[0mconfig_path\u001b[0m\u001b[1;33m)\u001b[0m\u001b[1;33m\u001b[0m\u001b[1;33m\u001b[0m\u001b[0m\n\u001b[0m\u001b[0;32m    523\u001b[0m \u001b[1;33m\u001b[0m\u001b[0m\n\u001b[0;32m    524\u001b[0m     \u001b[0mserviceUrl\u001b[0m  \u001b[1;33m=\u001b[0m \u001b[0mserverEndpoint\u001b[0m \u001b[1;33m+\u001b[0m \u001b[0mservice\u001b[0m\u001b[1;33m\u001b[0m\u001b[1;33m\u001b[0m\u001b[0m\n",
      "\u001b[1;32mC:\\ProgramData\\Anaconda3\\lib\\site-packages\\tika\\tika.py\u001b[0m in \u001b[0;36mcheckTikaServer\u001b[1;34m(scheme, serverHost, port, tikaServerJar, classpath, config_path)\u001b[0m\n\u001b[0;32m    573\u001b[0m             \u001b[1;32mif\u001b[0m \u001b[1;32mnot\u001b[0m \u001b[0mcheckJarSig\u001b[0m\u001b[1;33m(\u001b[0m\u001b[0mtikaServerJar\u001b[0m\u001b[1;33m,\u001b[0m \u001b[0mjarPath\u001b[0m\u001b[1;33m)\u001b[0m\u001b[1;33m:\u001b[0m\u001b[1;33m\u001b[0m\u001b[1;33m\u001b[0m\u001b[0m\n\u001b[0;32m    574\u001b[0m                 \u001b[0mos\u001b[0m\u001b[1;33m.\u001b[0m\u001b[0mremove\u001b[0m\u001b[1;33m(\u001b[0m\u001b[0mjarPath\u001b[0m\u001b[1;33m)\u001b[0m\u001b[1;33m\u001b[0m\u001b[1;33m\u001b[0m\u001b[0m\n\u001b[1;32m--> 575\u001b[1;33m                 \u001b[0mtikaServerJar\u001b[0m \u001b[1;33m=\u001b[0m \u001b[0mgetRemoteJar\u001b[0m\u001b[1;33m(\u001b[0m\u001b[0mtikaServerJar\u001b[0m\u001b[1;33m,\u001b[0m \u001b[0mjarPath\u001b[0m\u001b[1;33m)\u001b[0m\u001b[1;33m\u001b[0m\u001b[1;33m\u001b[0m\u001b[0m\n\u001b[0m\u001b[0;32m    576\u001b[0m \u001b[1;33m\u001b[0m\u001b[0m\n\u001b[0;32m    577\u001b[0m             \u001b[0mstatus\u001b[0m \u001b[1;33m=\u001b[0m \u001b[0mstartServer\u001b[0m\u001b[1;33m(\u001b[0m\u001b[0mjarPath\u001b[0m\u001b[1;33m,\u001b[0m \u001b[0mTikaJava\u001b[0m\u001b[1;33m,\u001b[0m \u001b[0mserverHost\u001b[0m\u001b[1;33m,\u001b[0m \u001b[0mport\u001b[0m\u001b[1;33m,\u001b[0m \u001b[0mclasspath\u001b[0m\u001b[1;33m,\u001b[0m \u001b[0mconfig_path\u001b[0m\u001b[1;33m)\u001b[0m\u001b[1;33m\u001b[0m\u001b[1;33m\u001b[0m\u001b[0m\n",
      "\u001b[1;32mC:\\ProgramData\\Anaconda3\\lib\\site-packages\\tika\\tika.py\u001b[0m in \u001b[0;36mgetRemoteJar\u001b[1;34m(urlOrPath, destPath)\u001b[0m\n\u001b[0;32m    714\u001b[0m         \u001b[0mlog\u001b[0m\u001b[1;33m.\u001b[0m\u001b[0minfo\u001b[0m\u001b[1;33m(\u001b[0m\u001b[1;34m'Retrieving %s to %s.'\u001b[0m \u001b[1;33m%\u001b[0m \u001b[1;33m(\u001b[0m\u001b[0murlOrPath\u001b[0m\u001b[1;33m,\u001b[0m \u001b[0mdestPath\u001b[0m\u001b[1;33m)\u001b[0m\u001b[1;33m)\u001b[0m\u001b[1;33m\u001b[0m\u001b[1;33m\u001b[0m\u001b[0m\n\u001b[0;32m    715\u001b[0m         \u001b[1;32mtry\u001b[0m\u001b[1;33m:\u001b[0m\u001b[1;33m\u001b[0m\u001b[1;33m\u001b[0m\u001b[0m\n\u001b[1;32m--> 716\u001b[1;33m             \u001b[0murlretrieve\u001b[0m\u001b[1;33m(\u001b[0m\u001b[0murlOrPath\u001b[0m\u001b[1;33m,\u001b[0m \u001b[0mdestPath\u001b[0m\u001b[1;33m)\u001b[0m\u001b[1;33m\u001b[0m\u001b[1;33m\u001b[0m\u001b[0m\n\u001b[0m\u001b[0;32m    717\u001b[0m         \u001b[1;32mexcept\u001b[0m \u001b[0mIOError\u001b[0m\u001b[1;33m:\u001b[0m\u001b[1;33m\u001b[0m\u001b[1;33m\u001b[0m\u001b[0m\n\u001b[0;32m    718\u001b[0m             \u001b[1;31m# monkey patch fix for SSL/Windows per Tika-Python #54\u001b[0m\u001b[1;33m\u001b[0m\u001b[1;33m\u001b[0m\u001b[1;33m\u001b[0m\u001b[0m\n",
      "\u001b[1;32mC:\\ProgramData\\Anaconda3\\lib\\urllib\\request.py\u001b[0m in \u001b[0;36murlretrieve\u001b[1;34m(url, filename, reporthook, data)\u001b[0m\n\u001b[0;32m    274\u001b[0m \u001b[1;33m\u001b[0m\u001b[0m\n\u001b[0;32m    275\u001b[0m             \u001b[1;32mwhile\u001b[0m \u001b[1;32mTrue\u001b[0m\u001b[1;33m:\u001b[0m\u001b[1;33m\u001b[0m\u001b[1;33m\u001b[0m\u001b[0m\n\u001b[1;32m--> 276\u001b[1;33m                 \u001b[0mblock\u001b[0m \u001b[1;33m=\u001b[0m \u001b[0mfp\u001b[0m\u001b[1;33m.\u001b[0m\u001b[0mread\u001b[0m\u001b[1;33m(\u001b[0m\u001b[0mbs\u001b[0m\u001b[1;33m)\u001b[0m\u001b[1;33m\u001b[0m\u001b[1;33m\u001b[0m\u001b[0m\n\u001b[0m\u001b[0;32m    277\u001b[0m                 \u001b[1;32mif\u001b[0m \u001b[1;32mnot\u001b[0m \u001b[0mblock\u001b[0m\u001b[1;33m:\u001b[0m\u001b[1;33m\u001b[0m\u001b[1;33m\u001b[0m\u001b[0m\n\u001b[0;32m    278\u001b[0m                     \u001b[1;32mbreak\u001b[0m\u001b[1;33m\u001b[0m\u001b[1;33m\u001b[0m\u001b[0m\n",
      "\u001b[1;32mC:\\ProgramData\\Anaconda3\\lib\\http\\client.py\u001b[0m in \u001b[0;36mread\u001b[1;34m(self, amt)\u001b[0m\n\u001b[0;32m    445\u001b[0m             \u001b[1;31m# Amount is given, implement using readinto\u001b[0m\u001b[1;33m\u001b[0m\u001b[1;33m\u001b[0m\u001b[1;33m\u001b[0m\u001b[0m\n\u001b[0;32m    446\u001b[0m             \u001b[0mb\u001b[0m \u001b[1;33m=\u001b[0m \u001b[0mbytearray\u001b[0m\u001b[1;33m(\u001b[0m\u001b[0mamt\u001b[0m\u001b[1;33m)\u001b[0m\u001b[1;33m\u001b[0m\u001b[1;33m\u001b[0m\u001b[0m\n\u001b[1;32m--> 447\u001b[1;33m             \u001b[0mn\u001b[0m \u001b[1;33m=\u001b[0m \u001b[0mself\u001b[0m\u001b[1;33m.\u001b[0m\u001b[0mreadinto\u001b[0m\u001b[1;33m(\u001b[0m\u001b[0mb\u001b[0m\u001b[1;33m)\u001b[0m\u001b[1;33m\u001b[0m\u001b[1;33m\u001b[0m\u001b[0m\n\u001b[0m\u001b[0;32m    448\u001b[0m             \u001b[1;32mreturn\u001b[0m \u001b[0mmemoryview\u001b[0m\u001b[1;33m(\u001b[0m\u001b[0mb\u001b[0m\u001b[1;33m)\u001b[0m\u001b[1;33m[\u001b[0m\u001b[1;33m:\u001b[0m\u001b[0mn\u001b[0m\u001b[1;33m]\u001b[0m\u001b[1;33m.\u001b[0m\u001b[0mtobytes\u001b[0m\u001b[1;33m(\u001b[0m\u001b[1;33m)\u001b[0m\u001b[1;33m\u001b[0m\u001b[1;33m\u001b[0m\u001b[0m\n\u001b[0;32m    449\u001b[0m         \u001b[1;32melse\u001b[0m\u001b[1;33m:\u001b[0m\u001b[1;33m\u001b[0m\u001b[1;33m\u001b[0m\u001b[0m\n",
      "\u001b[1;32mC:\\ProgramData\\Anaconda3\\lib\\http\\client.py\u001b[0m in \u001b[0;36mreadinto\u001b[1;34m(self, b)\u001b[0m\n\u001b[0;32m    489\u001b[0m         \u001b[1;31m# connection, and the user is reading more bytes than will be provided\u001b[0m\u001b[1;33m\u001b[0m\u001b[1;33m\u001b[0m\u001b[1;33m\u001b[0m\u001b[0m\n\u001b[0;32m    490\u001b[0m         \u001b[1;31m# (for example, reading in 1k chunks)\u001b[0m\u001b[1;33m\u001b[0m\u001b[1;33m\u001b[0m\u001b[1;33m\u001b[0m\u001b[0m\n\u001b[1;32m--> 491\u001b[1;33m         \u001b[0mn\u001b[0m \u001b[1;33m=\u001b[0m \u001b[0mself\u001b[0m\u001b[1;33m.\u001b[0m\u001b[0mfp\u001b[0m\u001b[1;33m.\u001b[0m\u001b[0mreadinto\u001b[0m\u001b[1;33m(\u001b[0m\u001b[0mb\u001b[0m\u001b[1;33m)\u001b[0m\u001b[1;33m\u001b[0m\u001b[1;33m\u001b[0m\u001b[0m\n\u001b[0m\u001b[0;32m    492\u001b[0m         \u001b[1;32mif\u001b[0m \u001b[1;32mnot\u001b[0m \u001b[0mn\u001b[0m \u001b[1;32mand\u001b[0m \u001b[0mb\u001b[0m\u001b[1;33m:\u001b[0m\u001b[1;33m\u001b[0m\u001b[1;33m\u001b[0m\u001b[0m\n\u001b[0;32m    493\u001b[0m             \u001b[1;31m# Ideally, we would raise IncompleteRead if the content-length\u001b[0m\u001b[1;33m\u001b[0m\u001b[1;33m\u001b[0m\u001b[1;33m\u001b[0m\u001b[0m\n",
      "\u001b[1;32mC:\\ProgramData\\Anaconda3\\lib\\socket.py\u001b[0m in \u001b[0;36mreadinto\u001b[1;34m(self, b)\u001b[0m\n\u001b[0;32m    587\u001b[0m         \u001b[1;32mwhile\u001b[0m \u001b[1;32mTrue\u001b[0m\u001b[1;33m:\u001b[0m\u001b[1;33m\u001b[0m\u001b[1;33m\u001b[0m\u001b[0m\n\u001b[0;32m    588\u001b[0m             \u001b[1;32mtry\u001b[0m\u001b[1;33m:\u001b[0m\u001b[1;33m\u001b[0m\u001b[1;33m\u001b[0m\u001b[0m\n\u001b[1;32m--> 589\u001b[1;33m                 \u001b[1;32mreturn\u001b[0m \u001b[0mself\u001b[0m\u001b[1;33m.\u001b[0m\u001b[0m_sock\u001b[0m\u001b[1;33m.\u001b[0m\u001b[0mrecv_into\u001b[0m\u001b[1;33m(\u001b[0m\u001b[0mb\u001b[0m\u001b[1;33m)\u001b[0m\u001b[1;33m\u001b[0m\u001b[1;33m\u001b[0m\u001b[0m\n\u001b[0m\u001b[0;32m    590\u001b[0m             \u001b[1;32mexcept\u001b[0m \u001b[0mtimeout\u001b[0m\u001b[1;33m:\u001b[0m\u001b[1;33m\u001b[0m\u001b[1;33m\u001b[0m\u001b[0m\n\u001b[0;32m    591\u001b[0m                 \u001b[0mself\u001b[0m\u001b[1;33m.\u001b[0m\u001b[0m_timeout_occurred\u001b[0m \u001b[1;33m=\u001b[0m \u001b[1;32mTrue\u001b[0m\u001b[1;33m\u001b[0m\u001b[1;33m\u001b[0m\u001b[0m\n",
      "\u001b[1;31mKeyboardInterrupt\u001b[0m: "
     ]
    }
   ],
   "source": [
    "pdfList=os.listdir(r\"Minutes(pdf)\")\n",
    "for pdf in pdfList:\n",
    "    a=parser.from_file(r'C:\\Users\\student\\Documents\\Thesis\\1_eKoNLPy\\1_PreparingCorpus\\MPB_Minutes\\Minutes(pdf)\\{}'.format(pdf))['content']\n",
    "    print(a)"
   ]
  },
  {
   "cell_type": "code",
   "execution_count": 51,
   "metadata": {},
   "outputs": [],
   "source": [
    "import re\n",
    "from tika import parser #https://github.com/chrismattmann/tika-python\n",
    "import shutil\n",
    "from os import listdir\n",
    "from os.path import isfile, join\n",
    "\n",
    "# 폴더내 pdf파일을 txt 파일로 변경\n",
    "def pdf2txt (source_folder=\"./data/bondreports/pdf/\", output_folder=\"./data/bondreports/text/\") :\n",
    "    # 지정 폴더 내 파일 목록 조회 (파일만)\n",
    "    pdf_files = [f for f in listdir(source_folder) if isfile(join(source_folder, f))]\n",
    "    \n",
    "    for pdf in pdf_files :\n",
    "        pdf_filepath = source_folder + pdf\n",
    "        pdf_tmp_filepath = output_folder + 'tmp.pdf'\n",
    "        # pdf 파일을 text로 변환\n",
    "\n",
    "        \n",
    "        shutil.copyfile(pdf_filepath, pdf_tmp_filepath)\n",
    "            \n",
    "        parsedPDF = re.sub('\\n', '', parser.from_file(pdf_tmp_filepath)[\"content\"])\n",
    "        #print(parsedPDF)\n",
    "\n",
    "        ouput_filepath = (output_folder + pdf).replace('.pdf', '.txt')\n",
    "        with open(ouput_filepath, 'w',encoding='UTF8') as f :\n",
    "            print(ouput_filepath)\n",
    "            f.write(parsedPDF)\n",
    "            f.close()    \n"
   ]
  },
  {
   "cell_type": "code",
   "execution_count": 52,
   "metadata": {},
   "outputs": [
    {
     "name": "stdout",
     "output_type": "stream",
     "text": [
      "C://Users//student//Documents//Thesis//1_eKoNLPy//1_PreparingCorpus//MPB_Minutes//Minutes(txt)//금융통화위원회 의사록(2004년도 제1차)(2004.1.8).txt\n",
      "C://Users//student//Documents//Thesis//1_eKoNLPy//1_PreparingCorpus//MPB_Minutes//Minutes(txt)//금융통화위원회 의사록(2004년도 제23차)(2004.11.11).txt\n",
      "C://Users//student//Documents//Thesis//1_eKoNLPy//1_PreparingCorpus//MPB_Minutes//Minutes(txt)//금융통화위원회 의사록(2004년도 제3차)(2004.2.6).txt\n",
      "C://Users//student//Documents//Thesis//1_eKoNLPy//1_PreparingCorpus//MPB_Minutes//Minutes(txt)//금융통화위원회 의사록(2004년도 제5차)(2004.2.26).txt\n",
      "C://Users//student//Documents//Thesis//1_eKoNLPy//1_PreparingCorpus//MPB_Minutes//Minutes(txt)//금융통화위원회 의사록(2004년도 제6차)(2004.3.11).txt\n",
      "C://Users//student//Documents//Thesis//1_eKoNLPy//1_PreparingCorpus//MPB_Minutes//Minutes(txt)//금융통화위원회 의사록(2004년도 제7차)(2004.3.25).txt\n",
      "C://Users//student//Documents//Thesis//1_eKoNLPy//1_PreparingCorpus//MPB_Minutes//Minutes(txt)//금융통화위원회 의사록(2004년도 제8차)(2004.4.8).txt\n",
      "C://Users//student//Documents//Thesis//1_eKoNLPy//1_PreparingCorpus//MPB_Minutes//Minutes(txt)//금융통화위원회 의사록(2005년도 제12차)(2005.6.9).txt\n",
      "C://Users//student//Documents//Thesis//1_eKoNLPy//1_PreparingCorpus//MPB_Minutes//Minutes(txt)//금융통화위원회 의사록(2005년도 제14차)(2005.7.7).txt\n",
      "C://Users//student//Documents//Thesis//1_eKoNLPy//1_PreparingCorpus//MPB_Minutes//Minutes(txt)//금융통화위원회 의사록(2005년도 제17차)(2005.8.11).txt\n",
      "C://Users//student//Documents//Thesis//1_eKoNLPy//1_PreparingCorpus//MPB_Minutes//Minutes(txt)//금융통화위원회 의사록(2005년도 제19차)(2005.9.8).txt\n",
      "C://Users//student//Documents//Thesis//1_eKoNLPy//1_PreparingCorpus//MPB_Minutes//Minutes(txt)//금융통화위원회 의사록(2005년도 제20차)(2005.9.22).txt\n",
      "C://Users//student//Documents//Thesis//1_eKoNLPy//1_PreparingCorpus//MPB_Minutes//Minutes(txt)//금융통화위원회 의사록(2005년도 제21차)(2005.10.11).txt\n",
      "C://Users//student//Documents//Thesis//1_eKoNLPy//1_PreparingCorpus//MPB_Minutes//Minutes(txt)//금융통화위원회 의사록(2005년도 제24차)(2005.11.10).txt\n",
      "C://Users//student//Documents//Thesis//1_eKoNLPy//1_PreparingCorpus//MPB_Minutes//Minutes(txt)//금융통화위원회 의사록(2005년도 제26차)(2005.12.8).txt\n",
      "C://Users//student//Documents//Thesis//1_eKoNLPy//1_PreparingCorpus//MPB_Minutes//Minutes(txt)//금융통화위원회 의사록(2006년도 제10차)(2006.5.11).txt\n",
      "C://Users//student//Documents//Thesis//1_eKoNLPy//1_PreparingCorpus//MPB_Minutes//Minutes(txt)//금융통화위원회 의사록(2006년도 제12차)(2006.6.8).txt\n",
      "C://Users//student//Documents//Thesis//1_eKoNLPy//1_PreparingCorpus//MPB_Minutes//Minutes(txt)//금융통화위원회 의사록(2006년도 제14차)(2006.7.7).txt\n",
      "C://Users//student//Documents//Thesis//1_eKoNLPy//1_PreparingCorpus//MPB_Minutes//Minutes(txt)//금융통화위원회 의사록(2006년도 제16차)(2006.8.10).txt\n",
      "C://Users//student//Documents//Thesis//1_eKoNLPy//1_PreparingCorpus//MPB_Minutes//Minutes(txt)//금융통화위원회 의사록(2006년도 제19차)(2006.9.7).txt\n",
      "C://Users//student//Documents//Thesis//1_eKoNLPy//1_PreparingCorpus//MPB_Minutes//Minutes(txt)//금융통화위원회 의사록(2006년도 제1차)(2006.1.5).txt\n",
      "C://Users//student//Documents//Thesis//1_eKoNLPy//1_PreparingCorpus//MPB_Minutes//Minutes(txt)//금융통화위원회 의사록(2006년도 제20차)(2006.9.21).txt\n",
      "C://Users//student//Documents//Thesis//1_eKoNLPy//1_PreparingCorpus//MPB_Minutes//Minutes(txt)//금융통화위원회 의사록(2006년도 제21차)(2006.10.12).txt\n",
      "C://Users//student//Documents//Thesis//1_eKoNLPy//1_PreparingCorpus//MPB_Minutes//Minutes(txt)//금융통화위원회 의사록(2006년도 제23차)(2006.11.9).txt\n",
      "C://Users//student//Documents//Thesis//1_eKoNLPy//1_PreparingCorpus//MPB_Minutes//Minutes(txt)//금융통화위원회 의사록(2006년도 제25차)(2006.12.7).txt\n",
      "C://Users//student//Documents//Thesis//1_eKoNLPy//1_PreparingCorpus//MPB_Minutes//Minutes(txt)//금융통화위원회 의사록(2006년도 제2차)(2006.1.12).txt\n",
      "C://Users//student//Documents//Thesis//1_eKoNLPy//1_PreparingCorpus//MPB_Minutes//Minutes(txt)//금융통화위원회 의사록(2006년도 제4차)(2006.2.9).txt\n",
      "C://Users//student//Documents//Thesis//1_eKoNLPy//1_PreparingCorpus//MPB_Minutes//Minutes(txt)//금융통화위원회 의사록(2006년도 제6차)(2006.3.9).txt\n",
      "C://Users//student//Documents//Thesis//1_eKoNLPy//1_PreparingCorpus//MPB_Minutes//Minutes(txt)//금융통화위원회 의사록(2006년도 제8차)(2006.4.7).txt\n",
      "C://Users//student//Documents//Thesis//1_eKoNLPy//1_PreparingCorpus//MPB_Minutes//Minutes(txt)//금융통화위원회 의사록(2007년도 제11차)(2007.5.10).txt\n",
      "C://Users//student//Documents//Thesis//1_eKoNLPy//1_PreparingCorpus//MPB_Minutes//Minutes(txt)//금융통화위원회 의사록(2007년도 제13차)(2007.6.8).txt\n",
      "C://Users//student//Documents//Thesis//1_eKoNLPy//1_PreparingCorpus//MPB_Minutes//Minutes(txt)//금융통화위원회 의사록(2007년도 제15차)(2007.7.12).txt\n",
      "C://Users//student//Documents//Thesis//1_eKoNLPy//1_PreparingCorpus//MPB_Minutes//Minutes(txt)//금융통화위원회 의사록(2007년도 제17차)(2007.8.9).txt\n",
      "C://Users//student//Documents//Thesis//1_eKoNLPy//1_PreparingCorpus//MPB_Minutes//Minutes(txt)//금융통화위원회 의사록(2007년도 제19차)(2007.9.7).txt\n",
      "C://Users//student//Documents//Thesis//1_eKoNLPy//1_PreparingCorpus//MPB_Minutes//Minutes(txt)//금융통화위원회 의사록(2007년도 제1차)(2007.1.5).txt\n",
      "C://Users//student//Documents//Thesis//1_eKoNLPy//1_PreparingCorpus//MPB_Minutes//Minutes(txt)//금융통화위원회 의사록(2007년도 제20차)(2007.9.20).txt\n",
      "C://Users//student//Documents//Thesis//1_eKoNLPy//1_PreparingCorpus//MPB_Minutes//Minutes(txt)//금융통화위원회 의사록(2007년도 제21차)(2007.10.11).txt\n",
      "C://Users//student//Documents//Thesis//1_eKoNLPy//1_PreparingCorpus//MPB_Minutes//Minutes(txt)//금융통화위원회 의사록(2007년도 제23차)(2007.11.8).txt\n",
      "C://Users//student//Documents//Thesis//1_eKoNLPy//1_PreparingCorpus//MPB_Minutes//Minutes(txt)//금융통화위원회 의사록(2007년도 제25차)(2007.12.7).txt\n",
      "C://Users//student//Documents//Thesis//1_eKoNLPy//1_PreparingCorpus//MPB_Minutes//Minutes(txt)//금융통화위원회 의사록(2007년도 제2차)(2007.1.11).txt\n",
      "C://Users//student//Documents//Thesis//1_eKoNLPy//1_PreparingCorpus//MPB_Minutes//Minutes(txt)//금융통화위원회 의사록(2007년도 제4차)(2007.2.8).txt\n",
      "C://Users//student//Documents//Thesis//1_eKoNLPy//1_PreparingCorpus//MPB_Minutes//Minutes(txt)//금융통화위원회 의사록(2007년도 제7차)(2007.3.8).txt\n",
      "C://Users//student//Documents//Thesis//1_eKoNLPy//1_PreparingCorpus//MPB_Minutes//Minutes(txt)//금융통화위원회 의사록(2007년도 제9차)(2007.4.12).txt\n",
      "C://Users//student//Documents//Thesis//1_eKoNLPy//1_PreparingCorpus//MPB_Minutes//Minutes(txt)//금융통화위원회 의사록(2008년도 제10차)(2008.5.8).txt\n",
      "C://Users//student//Documents//Thesis//1_eKoNLPy//1_PreparingCorpus//MPB_Minutes//Minutes(txt)//금융통화위원회 의사록(2008년도 제12차)(2008.6.12).txt\n",
      "C://Users//student//Documents//Thesis//1_eKoNLPy//1_PreparingCorpus//MPB_Minutes//Minutes(txt)//금융통화위원회 의사록(2008년도 제14차)(2008.7.10).txt\n",
      "C://Users//student//Documents//Thesis//1_eKoNLPy//1_PreparingCorpus//MPB_Minutes//Minutes(txt)//금융통화위원회 의사록(2008년도 제16차)(2008.8.7).txt\n",
      "C://Users//student//Documents//Thesis//1_eKoNLPy//1_PreparingCorpus//MPB_Minutes//Minutes(txt)//금융통화위원회 의사록(2008년도 제18차)(2008.9.11).txt\n",
      "C://Users//student//Documents//Thesis//1_eKoNLPy//1_PreparingCorpus//MPB_Minutes//Minutes(txt)//금융통화위원회 의사록(2008년도 제19차)(2008.9.25).txt\n",
      "C://Users//student//Documents//Thesis//1_eKoNLPy//1_PreparingCorpus//MPB_Minutes//Minutes(txt)//금융통화위원회 의사록(2008년도 제1차)(2008.1.4).txt\n",
      "C://Users//student//Documents//Thesis//1_eKoNLPy//1_PreparingCorpus//MPB_Minutes//Minutes(txt)//금융통화위원회 의사록(2008년도 제20차)(2008.10.9).txt\n",
      "C://Users//student//Documents//Thesis//1_eKoNLPy//1_PreparingCorpus//MPB_Minutes//Minutes(txt)//금융통화위원회 의사록(2008년도 제22차)(2008.10.27).txt\n",
      "C://Users//student//Documents//Thesis//1_eKoNLPy//1_PreparingCorpus//MPB_Minutes//Minutes(txt)//금융통화위원회 의사록(2008년도 제23차)(2008.11.7).txt\n",
      "C://Users//student//Documents//Thesis//1_eKoNLPy//1_PreparingCorpus//MPB_Minutes//Minutes(txt)//금융통화위원회 의사록(2008년도 제26차)(2008.12.11).txt\n",
      "C://Users//student//Documents//Thesis//1_eKoNLPy//1_PreparingCorpus//MPB_Minutes//Minutes(txt)//금융통화위원회 의사록(2008년도 제2차)(2008.1.10).txt\n",
      "C://Users//student//Documents//Thesis//1_eKoNLPy//1_PreparingCorpus//MPB_Minutes//Minutes(txt)//금융통화위원회 의사록(2008년도 제4차)(2008.2.13).txt\n",
      "C://Users//student//Documents//Thesis//1_eKoNLPy//1_PreparingCorpus//MPB_Minutes//Minutes(txt)//금융통화위원회 의사록(2008년도 제6차)(2008.3.7).txt\n",
      "C://Users//student//Documents//Thesis//1_eKoNLPy//1_PreparingCorpus//MPB_Minutes//Minutes(txt)//금융통화위원회 의사록(2008년도 제7차)(2008.3.20).txt\n",
      "C://Users//student//Documents//Thesis//1_eKoNLPy//1_PreparingCorpus//MPB_Minutes//Minutes(txt)//금융통화위원회 의사록(2008년도 제8차)(2008.4.10).txt\n",
      "C://Users//student//Documents//Thesis//1_eKoNLPy//1_PreparingCorpus//MPB_Minutes//Minutes(txt)//금융통화위원회 의사록(2009년도 제10차)(2009.4.23).txt\n",
      "C://Users//student//Documents//Thesis//1_eKoNLPy//1_PreparingCorpus//MPB_Minutes//Minutes(txt)//금융통화위원회 의사록(2009년도 제12차)(2009.5.12).txt\n",
      "C://Users//student//Documents//Thesis//1_eKoNLPy//1_PreparingCorpus//MPB_Minutes//Minutes(txt)//금융통화위원회 의사록(2009년도 제14차)(2009.6.11).txt\n"
     ]
    },
    {
     "name": "stdout",
     "output_type": "stream",
     "text": [
      "C://Users//student//Documents//Thesis//1_eKoNLPy//1_PreparingCorpus//MPB_Minutes//Minutes(txt)//금융통화위원회 의사록(2009년도 제16차)(2009.7.9).txt\n",
      "C://Users//student//Documents//Thesis//1_eKoNLPy//1_PreparingCorpus//MPB_Minutes//Minutes(txt)//금융통화위원회 의사록(2009년도 제18차)(2009.8.11).txt\n",
      "C://Users//student//Documents//Thesis//1_eKoNLPy//1_PreparingCorpus//MPB_Minutes//Minutes(txt)//금융통화위원회 의사록(2009년도 제1차)(2009.1.2).txt\n",
      "C://Users//student//Documents//Thesis//1_eKoNLPy//1_PreparingCorpus//MPB_Minutes//Minutes(txt)//금융통화위원회 의사록(2009년도 제20차)(2009.9.10).txt\n",
      "C://Users//student//Documents//Thesis//1_eKoNLPy//1_PreparingCorpus//MPB_Minutes//Minutes(txt)//금융통화위원회 의사록(2009년도 제21차)(2009.9.24).txt\n",
      "C://Users//student//Documents//Thesis//1_eKoNLPy//1_PreparingCorpus//MPB_Minutes//Minutes(txt)//금융통화위원회 의사록(2009년도 제22차)(2009.10.9).txt\n",
      "C://Users//student//Documents//Thesis//1_eKoNLPy//1_PreparingCorpus//MPB_Minutes//Minutes(txt)//금융통화위원회 의사록(2009년도 제24차)(2009.11.12).txt\n",
      "C://Users//student//Documents//Thesis//1_eKoNLPy//1_PreparingCorpus//MPB_Minutes//Minutes(txt)//금융통화위원회 의사록(2009년도 제26차)(2009.12.10).txt\n",
      "C://Users//student//Documents//Thesis//1_eKoNLPy//1_PreparingCorpus//MPB_Minutes//Minutes(txt)//금융통화위원회 의사록(2009년도 제2차)(2009.1.9).txt\n",
      "C://Users//student//Documents//Thesis//1_eKoNLPy//1_PreparingCorpus//MPB_Minutes//Minutes(txt)//금융통화위원회 의사록(2009년도 제4차)(2009.2.12).txt\n",
      "C://Users//student//Documents//Thesis//1_eKoNLPy//1_PreparingCorpus//MPB_Minutes//Minutes(txt)//금융통화위원회 의사록(2009년도 제7차)(2009.3.12).txt\n",
      "C://Users//student//Documents//Thesis//1_eKoNLPy//1_PreparingCorpus//MPB_Minutes//Minutes(txt)//금융통화위원회 의사록(2009년도 제8차)(2009.3.26).txt\n",
      "C://Users//student//Documents//Thesis//1_eKoNLPy//1_PreparingCorpus//MPB_Minutes//Minutes(txt)//금융통화위원회 의사록(2009년도 제9차)(2009.4.9).txt\n",
      "C://Users//student//Documents//Thesis//1_eKoNLPy//1_PreparingCorpus//MPB_Minutes//Minutes(txt)//금융통화위원회 의사록(2010년도 제10차)(2010.5.12).txt\n",
      "C://Users//student//Documents//Thesis//1_eKoNLPy//1_PreparingCorpus//MPB_Minutes//Minutes(txt)//금융통화위원회 의사록(2010년도 제12차)(2010.6.10).txt\n",
      "C://Users//student//Documents//Thesis//1_eKoNLPy//1_PreparingCorpus//MPB_Minutes//Minutes(txt)//금융통화위원회 의사록(2010년도 제14차)(2010.7.9).txt\n",
      "C://Users//student//Documents//Thesis//1_eKoNLPy//1_PreparingCorpus//MPB_Minutes//Minutes(txt)//금융통화위원회 의사록(2010년도 제16차)(2010.8.12).txt\n",
      "C://Users//student//Documents//Thesis//1_eKoNLPy//1_PreparingCorpus//MPB_Minutes//Minutes(txt)//금융통화위원회 의사록(2010년도 제17차)(2010.8.31).txt\n",
      "C://Users//student//Documents//Thesis//1_eKoNLPy//1_PreparingCorpus//MPB_Minutes//Minutes(txt)//금융통화위원회 의사록(2010년도 제18차)(2010.9.9).txt\n",
      "C://Users//student//Documents//Thesis//1_eKoNLPy//1_PreparingCorpus//MPB_Minutes//Minutes(txt)//금융통화위원회 의사록(2010년도 제19차)(2010.9.24).txt\n",
      "C://Users//student//Documents//Thesis//1_eKoNLPy//1_PreparingCorpus//MPB_Minutes//Minutes(txt)//금융통화위원회 의사록(2010년도 제1차)(2010.1.7).txt\n",
      "C://Users//student//Documents//Thesis//1_eKoNLPy//1_PreparingCorpus//MPB_Minutes//Minutes(txt)//금융통화위원회 의사록(2010년도 제20차)(2010.10.14).txt\n",
      "C://Users//student//Documents//Thesis//1_eKoNLPy//1_PreparingCorpus//MPB_Minutes//Minutes(txt)//금융통화위원회 의사록(2010년도 제22차)(2010.11.16).txt\n",
      "C://Users//student//Documents//Thesis//1_eKoNLPy//1_PreparingCorpus//MPB_Minutes//Minutes(txt)//금융통화위원회 의사록(2010년도 제24차)(2010.12.9).txt\n",
      "C://Users//student//Documents//Thesis//1_eKoNLPy//1_PreparingCorpus//MPB_Minutes//Minutes(txt)//금융통화위원회 의사록(2010년도 제2차)(2010.1.8).txt\n",
      "C://Users//student//Documents//Thesis//1_eKoNLPy//1_PreparingCorpus//MPB_Minutes//Minutes(txt)//금융통화위원회 의사록(2010년도 제4차)(2010.2.11).txt\n",
      "C://Users//student//Documents//Thesis//1_eKoNLPy//1_PreparingCorpus//MPB_Minutes//Minutes(txt)//금융통화위원회 의사록(2010년도 제6차)(2010.3.11).txt\n",
      "C://Users//student//Documents//Thesis//1_eKoNLPy//1_PreparingCorpus//MPB_Minutes//Minutes(txt)//금융통화위원회 의사록(2010년도 제7차)(2010.3.25).txt\n",
      "C://Users//student//Documents//Thesis//1_eKoNLPy//1_PreparingCorpus//MPB_Minutes//Minutes(txt)//금융통화위원회 의사록(2010년도 제8차)(2010.4.9).txt\n",
      "C://Users//student//Documents//Thesis//1_eKoNLPy//1_PreparingCorpus//MPB_Minutes//Minutes(txt)//금융통화위원회 의사록(2011년도 제13차)(2011.5.13).txt\n",
      "C://Users//student//Documents//Thesis//1_eKoNLPy//1_PreparingCorpus//MPB_Minutes//Minutes(txt)//금융통화위원회 의사록(2011년도 제15차)(2011.6.10).txt\n",
      "C://Users//student//Documents//Thesis//1_eKoNLPy//1_PreparingCorpus//MPB_Minutes//Minutes(txt)//금융통화위원회 의사록(2011년도 제17차)(2011.7.14).txt\n",
      "C://Users//student//Documents//Thesis//1_eKoNLPy//1_PreparingCorpus//MPB_Minutes//Minutes(txt)//금융통화위원회 의사록(2011년도 제19차)(2011.8.11).txt\n",
      "C://Users//student//Documents//Thesis//1_eKoNLPy//1_PreparingCorpus//MPB_Minutes//Minutes(txt)//금융통화위원회 의사록(2011년도 제1차)(2011.1.6).txt\n",
      "C://Users//student//Documents//Thesis//1_eKoNLPy//1_PreparingCorpus//MPB_Minutes//Minutes(txt)//금융통화위원회 의사록(2011년도 제21차)(2011.9.8).txt\n",
      "C://Users//student//Documents//Thesis//1_eKoNLPy//1_PreparingCorpus//MPB_Minutes//Minutes(txt)//금융통화위원회 의사록(2011년도 제22차)(2011.9.22).txt\n",
      "C://Users//student//Documents//Thesis//1_eKoNLPy//1_PreparingCorpus//MPB_Minutes//Minutes(txt)//금융통화위원회 의사록(2011년도 제23차)(2011.10.13).txt\n",
      "C://Users//student//Documents//Thesis//1_eKoNLPy//1_PreparingCorpus//MPB_Minutes//Minutes(txt)//금융통화위원회 의사록(2011년도 제25차)(2011.11.11).txt\n",
      "C://Users//student//Documents//Thesis//1_eKoNLPy//1_PreparingCorpus//MPB_Minutes//Minutes(txt)//금융통화위원회 의사록(2011년도 제27차)(2011.12.8).txt\n",
      "C://Users//student//Documents//Thesis//1_eKoNLPy//1_PreparingCorpus//MPB_Minutes//Minutes(txt)//금융통화위원회 의사록(2011년도 제2차)(2011.1.13).txt\n",
      "C://Users//student//Documents//Thesis//1_eKoNLPy//1_PreparingCorpus//MPB_Minutes//Minutes(txt)//금융통화위원회 의사록(2011년도 제30차)(2011.12.29).txt\n",
      "C://Users//student//Documents//Thesis//1_eKoNLPy//1_PreparingCorpus//MPB_Minutes//Minutes(txt)//금융통화위원회 의사록(2011년도 제5차)(2011.2.11).txt\n",
      "C://Users//student//Documents//Thesis//1_eKoNLPy//1_PreparingCorpus//MPB_Minutes//Minutes(txt)//금융통화위원회 의사록(2011년도 제7차)(2011.3.10).txt\n",
      "C://Users//student//Documents//Thesis//1_eKoNLPy//1_PreparingCorpus//MPB_Minutes//Minutes(txt)//금융통화위원회 의사록(2011년도 제8차)(2011.3.24).txt\n",
      "C://Users//student//Documents//Thesis//1_eKoNLPy//1_PreparingCorpus//MPB_Minutes//Minutes(txt)//금융통화위원회 의사록(2011년도 제9차)(2011.4.12).txt\n",
      "C://Users//student//Documents//Thesis//1_eKoNLPy//1_PreparingCorpus//MPB_Minutes//Minutes(txt)//금융통화위원회 의사록(2012년도 제11차)(2012.6.8).txt\n",
      "C://Users//student//Documents//Thesis//1_eKoNLPy//1_PreparingCorpus//MPB_Minutes//Minutes(txt)//금융통화위원회 의사록(2012년도 제13차)(2012.7.12).txt\n",
      "C://Users//student//Documents//Thesis//1_eKoNLPy//1_PreparingCorpus//MPB_Minutes//Minutes(txt)//금융통화위원회 의사록(2012년도 제15차)(2012.8.9).txt\n",
      "C://Users//student//Documents//Thesis//1_eKoNLPy//1_PreparingCorpus//MPB_Minutes//Minutes(txt)//금융통화위원회 의사록(2012년도 제17차)(2012.9.13.).txt\n",
      "C://Users//student//Documents//Thesis//1_eKoNLPy//1_PreparingCorpus//MPB_Minutes//Minutes(txt)//금융통화위원회 의사록(2012년도 제18차)(2012.9.27).txt\n",
      "C://Users//student//Documents//Thesis//1_eKoNLPy//1_PreparingCorpus//MPB_Minutes//Minutes(txt)//금융통화위원회 의사록(2012년도 제19차)(2012.10.11).txt\n",
      "C://Users//student//Documents//Thesis//1_eKoNLPy//1_PreparingCorpus//MPB_Minutes//Minutes(txt)//금융통화위원회 의사록(2012년도 제1차)(2012.1.13).txt\n",
      "C://Users//student//Documents//Thesis//1_eKoNLPy//1_PreparingCorpus//MPB_Minutes//Minutes(txt)//금융통화위원회 의사록(2012년도 제21차)(2012.11.9).txt\n",
      "C://Users//student//Documents//Thesis//1_eKoNLPy//1_PreparingCorpus//MPB_Minutes//Minutes(txt)//금융통화위원회 의사록(2012년도 제23차)(2012.12.13).txt\n",
      "C://Users//student//Documents//Thesis//1_eKoNLPy//1_PreparingCorpus//MPB_Minutes//Minutes(txt)//금융통화위원회 의사록(2012년도 제25차)(2012.12.27).txt\n",
      "C://Users//student//Documents//Thesis//1_eKoNLPy//1_PreparingCorpus//MPB_Minutes//Minutes(txt)//금융통화위원회 의사록(2012년도 제3차)(2012.2.9).txt\n",
      "C://Users//student//Documents//Thesis//1_eKoNLPy//1_PreparingCorpus//MPB_Minutes//Minutes(txt)//금융통화위원회 의사록(2012년도 제5차)(2012.3.8).txt\n",
      "C://Users//student//Documents//Thesis//1_eKoNLPy//1_PreparingCorpus//MPB_Minutes//Minutes(txt)//금융통화위원회 의사록(2012년도 제6차)(2012.3.22).txt\n",
      "C://Users//student//Documents//Thesis//1_eKoNLPy//1_PreparingCorpus//MPB_Minutes//Minutes(txt)//금융통화위원회 의사록(2012년도 제7차)(2012.4.13).txt\n",
      "C://Users//student//Documents//Thesis//1_eKoNLPy//1_PreparingCorpus//MPB_Minutes//Minutes(txt)//금융통화위원회 의사록(2012년도 제9차)(2012.5.10).txt\n",
      "C://Users//student//Documents//Thesis//1_eKoNLPy//1_PreparingCorpus//MPB_Minutes//Minutes(txt)//금융통화위원회 의사록(2013년도 제11차)(2013.6.13).txt\n"
     ]
    },
    {
     "name": "stdout",
     "output_type": "stream",
     "text": [
      "C://Users//student//Documents//Thesis//1_eKoNLPy//1_PreparingCorpus//MPB_Minutes//Minutes(txt)//금융통화위원회 의사록(2013년도 제13차)(2013.7.11).txt\n",
      "C://Users//student//Documents//Thesis//1_eKoNLPy//1_PreparingCorpus//MPB_Minutes//Minutes(txt)//금융통화위원회 의사록(2013년도 제15차)(2013.8.8).txt\n",
      "C://Users//student//Documents//Thesis//1_eKoNLPy//1_PreparingCorpus//MPB_Minutes//Minutes(txt)//금융통화위원회 의사록(2013년도 제17차)(2013.9.12).txt\n",
      "C://Users//student//Documents//Thesis//1_eKoNLPy//1_PreparingCorpus//MPB_Minutes//Minutes(txt)//금융통화위원회 의사록(2013년도 제18차)(2013.9.26.).txt\n",
      "C://Users//student//Documents//Thesis//1_eKoNLPy//1_PreparingCorpus//MPB_Minutes//Minutes(txt)//금융통화위원회 의사록(2013년도 제19차)(2013.10.10.).txt\n",
      "C://Users//student//Documents//Thesis//1_eKoNLPy//1_PreparingCorpus//MPB_Minutes//Minutes(txt)//금융통화위원회 의사록(2013년도 제1차)(2013.1.11).txt\n",
      "C://Users//student//Documents//Thesis//1_eKoNLPy//1_PreparingCorpus//MPB_Minutes//Minutes(txt)//금융통화위원회 의사록(2013년도 제21차)(2013.11.14).txt\n",
      "C://Users//student//Documents//Thesis//1_eKoNLPy//1_PreparingCorpus//MPB_Minutes//Minutes(txt)//금융통화위원회 의사록(2013년도 제23차)(2013.12.12.).txt\n",
      "C://Users//student//Documents//Thesis//1_eKoNLPy//1_PreparingCorpus//MPB_Minutes//Minutes(txt)//금융통화위원회 의사록(2013년도 제24차)(2013.12.26.).txt\n",
      "C://Users//student//Documents//Thesis//1_eKoNLPy//1_PreparingCorpus//MPB_Minutes//Minutes(txt)//금융통화위원회 의사록(2013년도 제3차)(2013.2.14).txt\n",
      "C://Users//student//Documents//Thesis//1_eKoNLPy//1_PreparingCorpus//MPB_Minutes//Minutes(txt)//금융통화위원회 의사록(2013년도 제5차)(2013.3.14).txt\n",
      "C://Users//student//Documents//Thesis//1_eKoNLPy//1_PreparingCorpus//MPB_Minutes//Minutes(txt)//금융통화위원회 의사록(2013년도 제6차)(2013.3.28).txt\n",
      "C://Users//student//Documents//Thesis//1_eKoNLPy//1_PreparingCorpus//MPB_Minutes//Minutes(txt)//금융통화위원회 의사록(2013년도 제7차)(2013.4.11).txt\n",
      "C://Users//student//Documents//Thesis//1_eKoNLPy//1_PreparingCorpus//MPB_Minutes//Minutes(txt)//금융통화위원회 의사록(2013년도 제9차)(2013.5.9).txt\n",
      "C://Users//student//Documents//Thesis//1_eKoNLPy//1_PreparingCorpus//MPB_Minutes//Minutes(txt)//금융통화위원회 의사록(2014년도 제11차)(2014.6.12.).txt\n",
      "C://Users//student//Documents//Thesis//1_eKoNLPy//1_PreparingCorpus//MPB_Minutes//Minutes(txt)//금융통화위원회 의사록(2014년도 제13차)(2014.7.10.).txt\n",
      "C://Users//student//Documents//Thesis//1_eKoNLPy//1_PreparingCorpus//MPB_Minutes//Minutes(txt)//금융통화위원회 의사록(2014년도 제15차)(2014.8.14.).txt\n",
      "C://Users//student//Documents//Thesis//1_eKoNLPy//1_PreparingCorpus//MPB_Minutes//Minutes(txt)//금융통화위원회 의사록(2014년도 제17차)(2014.9.12.).txt\n",
      "C://Users//student//Documents//Thesis//1_eKoNLPy//1_PreparingCorpus//MPB_Minutes//Minutes(txt)//금융통화위원회 의사록(2014년도 제18차)(2014.9.25.).txt\n",
      "C://Users//student//Documents//Thesis//1_eKoNLPy//1_PreparingCorpus//MPB_Minutes//Minutes(txt)//금융통화위원회 의사록(2014년도 제19차)(2014.10.15.).txt\n",
      "C://Users//student//Documents//Thesis//1_eKoNLPy//1_PreparingCorpus//MPB_Minutes//Minutes(txt)//금융통화위원회 의사록(2014년도 제1차)(2014.1.9).txt\n",
      "C://Users//student//Documents//Thesis//1_eKoNLPy//1_PreparingCorpus//MPB_Minutes//Minutes(txt)//금융통화위원회 의사록(2014년도 제21차)(2014.11.13.).txt\n",
      "C://Users//student//Documents//Thesis//1_eKoNLPy//1_PreparingCorpus//MPB_Minutes//Minutes(txt)//금융통화위원회 의사록(2014년도 제23차)(2014.12.11.).txt\n",
      "C://Users//student//Documents//Thesis//1_eKoNLPy//1_PreparingCorpus//MPB_Minutes//Minutes(txt)//금융통화위원회 의사록(2014년도 제24차)(2014.12.24.).txt\n",
      "C://Users//student//Documents//Thesis//1_eKoNLPy//1_PreparingCorpus//MPB_Minutes//Minutes(txt)//금융통화위원회 의사록(2014년도 제3차)(2014.2.13.).txt\n",
      "C://Users//student//Documents//Thesis//1_eKoNLPy//1_PreparingCorpus//MPB_Minutes//Minutes(txt)//금융통화위원회 의사록(2014년도 제5차)(2014.3.13.).txt\n",
      "C://Users//student//Documents//Thesis//1_eKoNLPy//1_PreparingCorpus//MPB_Minutes//Minutes(txt)//금융통화위원회 의사록(2014년도 제6차)(2014.3.27.).txt\n",
      "C://Users//student//Documents//Thesis//1_eKoNLPy//1_PreparingCorpus//MPB_Minutes//Minutes(txt)//금융통화위원회 의사록(2014년도 제7차)(2014.4.10.).txt\n",
      "C://Users//student//Documents//Thesis//1_eKoNLPy//1_PreparingCorpus//MPB_Minutes//Minutes(txt)//금융통화위원회 의사록(2014년도 제9차)(2014.5.9.).txt\n",
      "C://Users//student//Documents//Thesis//1_eKoNLPy//1_PreparingCorpus//MPB_Minutes//Minutes(txt)//금융통화위원회 의사록(2015년도 제11차)(2015.6.11.).txt\n",
      "C://Users//student//Documents//Thesis//1_eKoNLPy//1_PreparingCorpus//MPB_Minutes//Minutes(txt)//금융통화위원회 의사록(2015년도 제13차)(2015.7.9.).txt\n",
      "C://Users//student//Documents//Thesis//1_eKoNLPy//1_PreparingCorpus//MPB_Minutes//Minutes(txt)//금융통화위원회 의사록(2015년도 제15차)(2015.8.13.).txt\n",
      "C://Users//student//Documents//Thesis//1_eKoNLPy//1_PreparingCorpus//MPB_Minutes//Minutes(txt)//금융통화위원회 의사록(2015년도 제17차)(2015.9.11.).txt\n",
      "C://Users//student//Documents//Thesis//1_eKoNLPy//1_PreparingCorpus//MPB_Minutes//Minutes(txt)//금융통화위원회 의사록(2015년도 제19차)(2015.10.15.).txt\n",
      "C://Users//student//Documents//Thesis//1_eKoNLPy//1_PreparingCorpus//MPB_Minutes//Minutes(txt)//금융통화위원회 의사록(2015년도 제1차)(2015.1.15.).txt\n"
     ]
    },
    {
     "ename": "TypeError",
     "evalue": "expected string or bytes-like object",
     "output_type": "error",
     "traceback": [
      "\u001b[1;31m---------------------------------------------------------------------------\u001b[0m",
      "\u001b[1;31mTypeError\u001b[0m                                 Traceback (most recent call last)",
      "\u001b[1;32m<ipython-input-52-c34190116342>\u001b[0m in \u001b[0;36m<module>\u001b[1;34m\u001b[0m\n\u001b[0;32m      1\u001b[0m \u001b[0mpath1\u001b[0m \u001b[1;33m=\u001b[0m \u001b[1;34m\"C://Users//student//Documents//Thesis//1_eKoNLPy//1_PreparingCorpus//MPB_Minutes//Minutes(pdf)//\"\u001b[0m\u001b[1;33m\u001b[0m\u001b[1;33m\u001b[0m\u001b[0m\n\u001b[0;32m      2\u001b[0m \u001b[0mpath2\u001b[0m \u001b[1;33m=\u001b[0m \u001b[1;34m\"C://Users//student//Documents//Thesis//1_eKoNLPy//1_PreparingCorpus//MPB_Minutes//Minutes(txt)//\"\u001b[0m\u001b[1;33m\u001b[0m\u001b[1;33m\u001b[0m\u001b[0m\n\u001b[1;32m----> 3\u001b[1;33m \u001b[0mpdf2txt\u001b[0m\u001b[1;33m(\u001b[0m\u001b[0mpath1\u001b[0m\u001b[1;33m,\u001b[0m \u001b[0mpath2\u001b[0m \u001b[1;33m)\u001b[0m\u001b[1;33m\u001b[0m\u001b[1;33m\u001b[0m\u001b[0m\n\u001b[0m",
      "\u001b[1;32m<ipython-input-51-31852487e16d>\u001b[0m in \u001b[0;36mpdf2txt\u001b[1;34m(source_folder, output_folder)\u001b[0m\n\u001b[0;32m     18\u001b[0m         \u001b[0mshutil\u001b[0m\u001b[1;33m.\u001b[0m\u001b[0mcopyfile\u001b[0m\u001b[1;33m(\u001b[0m\u001b[0mpdf_filepath\u001b[0m\u001b[1;33m,\u001b[0m \u001b[0mpdf_tmp_filepath\u001b[0m\u001b[1;33m)\u001b[0m\u001b[1;33m\u001b[0m\u001b[1;33m\u001b[0m\u001b[0m\n\u001b[0;32m     19\u001b[0m \u001b[1;33m\u001b[0m\u001b[0m\n\u001b[1;32m---> 20\u001b[1;33m         \u001b[0mparsedPDF\u001b[0m \u001b[1;33m=\u001b[0m \u001b[0mre\u001b[0m\u001b[1;33m.\u001b[0m\u001b[0msub\u001b[0m\u001b[1;33m(\u001b[0m\u001b[1;34m'\\n'\u001b[0m\u001b[1;33m,\u001b[0m \u001b[1;34m''\u001b[0m\u001b[1;33m,\u001b[0m \u001b[0mparser\u001b[0m\u001b[1;33m.\u001b[0m\u001b[0mfrom_file\u001b[0m\u001b[1;33m(\u001b[0m\u001b[0mpdf_tmp_filepath\u001b[0m\u001b[1;33m)\u001b[0m\u001b[1;33m[\u001b[0m\u001b[1;34m\"content\"\u001b[0m\u001b[1;33m]\u001b[0m\u001b[1;33m)\u001b[0m\u001b[1;33m\u001b[0m\u001b[1;33m\u001b[0m\u001b[0m\n\u001b[0m\u001b[0;32m     21\u001b[0m         \u001b[1;31m#print(parsedPDF)\u001b[0m\u001b[1;33m\u001b[0m\u001b[1;33m\u001b[0m\u001b[1;33m\u001b[0m\u001b[0m\n\u001b[0;32m     22\u001b[0m \u001b[1;33m\u001b[0m\u001b[0m\n",
      "\u001b[1;32mC:\\ProgramData\\Anaconda3\\lib\\re.py\u001b[0m in \u001b[0;36msub\u001b[1;34m(pattern, repl, string, count, flags)\u001b[0m\n\u001b[0;32m    190\u001b[0m     \u001b[0ma\u001b[0m \u001b[0mcallable\u001b[0m\u001b[1;33m,\u001b[0m \u001b[0mit\u001b[0m\u001b[0;31m'\u001b[0m\u001b[0ms\u001b[0m \u001b[0mpassed\u001b[0m \u001b[0mthe\u001b[0m \u001b[0mMatch\u001b[0m \u001b[0mobject\u001b[0m \u001b[1;32mand\u001b[0m \u001b[0mmust\u001b[0m \u001b[1;32mreturn\u001b[0m\u001b[1;33m\u001b[0m\u001b[1;33m\u001b[0m\u001b[0m\n\u001b[0;32m    191\u001b[0m     a replacement string to be used.\"\"\"\n\u001b[1;32m--> 192\u001b[1;33m     \u001b[1;32mreturn\u001b[0m \u001b[0m_compile\u001b[0m\u001b[1;33m(\u001b[0m\u001b[0mpattern\u001b[0m\u001b[1;33m,\u001b[0m \u001b[0mflags\u001b[0m\u001b[1;33m)\u001b[0m\u001b[1;33m.\u001b[0m\u001b[0msub\u001b[0m\u001b[1;33m(\u001b[0m\u001b[0mrepl\u001b[0m\u001b[1;33m,\u001b[0m \u001b[0mstring\u001b[0m\u001b[1;33m,\u001b[0m \u001b[0mcount\u001b[0m\u001b[1;33m)\u001b[0m\u001b[1;33m\u001b[0m\u001b[1;33m\u001b[0m\u001b[0m\n\u001b[0m\u001b[0;32m    193\u001b[0m \u001b[1;33m\u001b[0m\u001b[0m\n\u001b[0;32m    194\u001b[0m \u001b[1;32mdef\u001b[0m \u001b[0msubn\u001b[0m\u001b[1;33m(\u001b[0m\u001b[0mpattern\u001b[0m\u001b[1;33m,\u001b[0m \u001b[0mrepl\u001b[0m\u001b[1;33m,\u001b[0m \u001b[0mstring\u001b[0m\u001b[1;33m,\u001b[0m \u001b[0mcount\u001b[0m\u001b[1;33m=\u001b[0m\u001b[1;36m0\u001b[0m\u001b[1;33m,\u001b[0m \u001b[0mflags\u001b[0m\u001b[1;33m=\u001b[0m\u001b[1;36m0\u001b[0m\u001b[1;33m)\u001b[0m\u001b[1;33m:\u001b[0m\u001b[1;33m\u001b[0m\u001b[1;33m\u001b[0m\u001b[0m\n",
      "\u001b[1;31mTypeError\u001b[0m: expected string or bytes-like object"
     ]
    }
   ],
   "source": [
    "path1 = \"C://Users//student//Documents//Thesis//1_eKoNLPy//1_PreparingCorpus//MPB_Minutes//Minutes(pdf)//\"\n",
    "path2 = \"C://Users//student//Documents//Thesis//1_eKoNLPy//1_PreparingCorpus//MPB_Minutes//Minutes(txt)//\"\n",
    "pdf2txt(path1, path2 )"
   ]
  },
  {
   "cell_type": "code",
   "execution_count": null,
   "metadata": {},
   "outputs": [],
   "source": []
  }
 ],
 "metadata": {
  "kernelspec": {
   "display_name": "Python 3",
   "language": "python",
   "name": "python3"
  },
  "language_info": {
   "codemirror_mode": {
    "name": "ipython",
    "version": 3
   },
   "file_extension": ".py",
   "mimetype": "text/x-python",
   "name": "python",
   "nbconvert_exporter": "python",
   "pygments_lexer": "ipython3",
   "version": "3.7.3"
  }
 },
 "nbformat": 4,
 "nbformat_minor": 2
}
