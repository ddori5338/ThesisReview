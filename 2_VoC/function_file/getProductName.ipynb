{
 "cells": [
  {
   "cell_type": "code",
   "execution_count": 1,
   "metadata": {},
   "outputs": [],
   "source": [
    "import re\n",
    "import time\n",
    "import requests\n",
    "from scrapy.http import TextResponse\n",
    "\n",
    "def getProductName(asinList):\n",
    "    returnList = []\n",
    "    errorList = []\n",
    "    headers = {\n",
    "        'accept': 'text/html,application/xhtml+xml,application/xml;q=0.9,image/webp,image/apng,*/*;q=0.8',\n",
    "        'accept-encoding': 'gzip, deflate, br',\n",
    "        'accept-language': 'en-US,en;q=0.9,ko;q=0.8',\n",
    "        'user-agent' : 'Mozilla/5.0 (Macintosh; Intel Mac OS X 10_14_5) AppleWebKit/537.36 (KHTML, like Gecko) Chrome/73.0.3683.103 Whale/1.5.75.9 Safari/537.36',\n",
    "    }\n",
    "    \n",
    "    \n",
    "    \n",
    "    start = time.time()\n",
    "    for asin in asinList:\n",
    "        URL = \"https://www.amazon.com/product-reviews/{}\".format(asin)\n",
    "        resp = requests.get(URL, headers = headers)\n",
    "\n",
    "        response = TextResponse(resp.url, body=resp.text, encoding=\"utf-8\")\n",
    "        link = response.css('body link[rel=\"canonical\"]::attr(href)').get()\n",
    "        try:\n",
    "            productName = re.sub(r\"(https:\\/\\/.*\\.com\\/)|(product-reviews\\/)|(\\?.*)\",\"\",link).split(\"/\")[0]\n",
    "            returnList.append((asin, productName))\n",
    "            if(len(returnList)%5==0):\n",
    "                print(\"{}개\".format(len(returnList)))\n",
    "        except:\n",
    "            errorList.append(asin)\n",
    "    print(\"time: \", time.time() - start)\n",
    "    \n",
    "    \n",
    "    \n",
    "    print(\"에러: {}\".format(errorList))\n",
    "    return returnList\n"
   ]
  },
  {
   "cell_type": "code",
   "execution_count": 2,
   "metadata": {},
   "outputs": [],
   "source": [
    "# resultList = getProductName([ \"inputList\" ])"
   ]
  },
  {
   "cell_type": "code",
   "execution_count": null,
   "metadata": {},
   "outputs": [],
   "source": []
  }
 ],
 "metadata": {
  "kernelspec": {
   "display_name": "base",
   "language": "python",
   "name": "base"
  },
  "language_info": {
   "codemirror_mode": {
    "name": "ipython",
    "version": 3
   },
   "file_extension": ".py",
   "mimetype": "text/x-python",
   "name": "python",
   "nbconvert_exporter": "python",
   "pygments_lexer": "ipython3",
   "version": "3.7.0"
  }
 },
 "nbformat": 4,
 "nbformat_minor": 4
}
