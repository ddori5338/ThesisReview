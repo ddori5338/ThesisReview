{
 "cells": [
  {
   "cell_type": "code",
   "execution_count": 53,
   "metadata": {},
   "outputs": [],
   "source": [
    "import pandas as pd\n",
    "import numpy as np"
   ]
  },
  {
   "cell_type": "code",
   "execution_count": 54,
   "metadata": {
    "scrolled": true
   },
   "outputs": [],
   "source": [
    "dateList = pd.date_range(start='2004.12.01', end='2017.12.31')\n",
    "base = pd.DataFrame(dateList, columns=['date'])\n",
    "callRate = pd.read_csv('callRate.csv')"
   ]
  },
  {
   "cell_type": "code",
   "execution_count": 64,
   "metadata": {
    "scrolled": true
   },
   "outputs": [],
   "source": [
    "def month_ago(df):\n",
    "    df['date'] = pd.to_datetime(df['date'])\n",
    "    callRate = pd.merge(base, df, how='left')\n",
    "    labeling = callRate.fillna(method='ffill')\n",
    "    \n",
    "    # 비교해줄 한달 전 df 생성\n",
    "    compareDf= labeling.copy().rename(columns={'date':'compareDate', 'callRate':'compareRate'})\n",
    "    labeling['compareDate']= labeling['date'] - pd.Timedelta(1,'M')\n",
    "    # 병합을 위해 기준열의 type을 동일하게 맞춰줌\n",
    "    print('type 변환 시작')\n",
    "    for idx in range(len(labeling)):\n",
    "        labeling['compareDate'][idx] = labeling['compareDate'][idx].strftime('%Y-%m-%d')\n",
    "    print('type 변환 완료')\n",
    "    \n",
    "    moderator = pd.merge(labeling, compareDf, how='left')\n",
    "    origin = moderator['callRate'].astype(float)\n",
    "    compare = moderator['compareRate'].astype(float)\n",
    "\n",
    "    label = (origin-compare)\n",
    "    print('label 태깅 시작')\n",
    "    for idx in range(31,len(label)):\n",
    "        if label[idx] > 0:\n",
    "            label[idx] = 'pos'\n",
    "        elif label[idx] < 0:\n",
    "            label[idx] = 'neg'\n",
    "    print('label 태깅 완료')\n",
    "    dfLabel = pd.concat([moderator['date'], label], axis=1).dropna()\n",
    "    dfLabel.columns = ['date','label']\n",
    "    dfLabel.to_csv('label.csv')\n",
    "    # return dfLabel\n",
    "    return dfLabel   "
   ]
  },
  {
   "cell_type": "code",
   "execution_count": 65,
   "metadata": {},
   "outputs": [
    {
     "name": "stdout",
     "output_type": "stream",
     "text": [
      "type 변환 시작\n"
     ]
    },
    {
     "name": "stderr",
     "output_type": "stream",
     "text": [
      "C:\\ProgramData\\Anaconda3\\lib\\site-packages\\ipykernel_launcher.py:12: SettingWithCopyWarning: \n",
      "A value is trying to be set on a copy of a slice from a DataFrame\n",
      "\n",
      "See the caveats in the documentation: http://pandas.pydata.org/pandas-docs/stable/indexing.html#indexing-view-versus-copy\n",
      "  if sys.path[0] == '':\n"
     ]
    },
    {
     "name": "stdout",
     "output_type": "stream",
     "text": [
      "type 변환 완료\n",
      "label 태깅 시작\n",
      "label 태깅 완료\n"
     ]
    }
   ],
   "source": [
    "dfLabel=month_ago(callRate)"
   ]
  },
  {
   "cell_type": "code",
   "execution_count": 66,
   "metadata": {},
   "outputs": [
    {
     "data": {
      "text/plain": [
       "pos    1940\n",
       "neg    1901\n",
       "0.0     907\n",
       "Name: label, dtype: int64"
      ]
     },
     "execution_count": 66,
     "metadata": {},
     "output_type": "execute_result"
    }
   ],
   "source": [
    "dfLabel['label'].value_counts()"
   ]
  },
  {
   "cell_type": "code",
   "execution_count": null,
   "metadata": {},
   "outputs": [],
   "source": []
  }
 ],
 "metadata": {
  "kernelspec": {
   "display_name": "Python 3",
   "language": "python",
   "name": "python3"
  },
  "language_info": {
   "codemirror_mode": {
    "name": "ipython",
    "version": 3
   },
   "file_extension": ".py",
   "mimetype": "text/x-python",
   "name": "python",
   "nbconvert_exporter": "python",
   "pygments_lexer": "ipython3",
   "version": "3.7.3"
  }
 },
 "nbformat": 4,
 "nbformat_minor": 2
}
