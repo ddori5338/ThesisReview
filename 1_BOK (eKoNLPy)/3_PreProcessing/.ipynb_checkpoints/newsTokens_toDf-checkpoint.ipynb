{
 "cells": [
  {
   "cell_type": "code",
   "execution_count": 176,
   "metadata": {},
   "outputs": [],
   "source": [
    "news_tokens = pd.read_csv('news__tokens.csv')"
   ]
  },
  {
   "cell_type": "code",
   "execution_count": 178,
   "metadata": {},
   "outputs": [
    {
     "data": {
      "text/html": [
       "<div>\n",
       "<style scoped>\n",
       "    .dataframe tbody tr th:only-of-type {\n",
       "        vertical-align: middle;\n",
       "    }\n",
       "\n",
       "    .dataframe tbody tr th {\n",
       "        vertical-align: top;\n",
       "    }\n",
       "\n",
       "    .dataframe thead th {\n",
       "        text-align: right;\n",
       "    }\n",
       "</style>\n",
       "<table border=\"1\" class=\"dataframe\">\n",
       "  <thead>\n",
       "    <tr style=\"text-align: right;\">\n",
       "      <th></th>\n",
       "      <th>date</th>\n",
       "      <th>tokens</th>\n",
       "    </tr>\n",
       "  </thead>\n",
       "  <tbody>\n",
       "    <tr>\n",
       "      <th>0</th>\n",
       "      <td>2005-01-16</td>\n",
       "      <td>['자국/NNG', '화폐/NNG', '위안/NNG', '元/NNG', '투기/NN...</td>\n",
       "    </tr>\n",
       "    <tr>\n",
       "      <th>1</th>\n",
       "      <td>2005-01-16</td>\n",
       "      <td>['가까이/MAG', '박스권/NNG', '갇혀/VV', '옆/NNG', '걸음/N...</td>\n",
       "    </tr>\n",
       "    <tr>\n",
       "      <th>2</th>\n",
       "      <td>2005-01-16</td>\n",
       "      <td>['들/VV', '금리/NNG', '가수급/NNG', '부담/NNG', '크/VA'...</td>\n",
       "    </tr>\n",
       "    <tr>\n",
       "      <th>3</th>\n",
       "      <td>2005-01-16</td>\n",
       "      <td>['주식시장/NNG', '강세/NNG', '채권/NNG', '가격/NNG', '하락...</td>\n",
       "    </tr>\n",
       "    <tr>\n",
       "      <th>4</th>\n",
       "      <td>2005-01-16</td>\n",
       "      <td>['은행/NNG', '출범/NNG', '개인/NNG', '신용/NNG', '대출상품...</td>\n",
       "    </tr>\n",
       "  </tbody>\n",
       "</table>\n",
       "</div>"
      ],
      "text/plain": [
       "        date                                             tokens\n",
       "0 2005-01-16  ['자국/NNG', '화폐/NNG', '위안/NNG', '元/NNG', '투기/NN...\n",
       "1 2005-01-16  ['가까이/MAG', '박스권/NNG', '갇혀/VV', '옆/NNG', '걸음/N...\n",
       "2 2005-01-16  ['들/VV', '금리/NNG', '가수급/NNG', '부담/NNG', '크/VA'...\n",
       "3 2005-01-16  ['주식시장/NNG', '강세/NNG', '채권/NNG', '가격/NNG', '하락...\n",
       "4 2005-01-16  ['은행/NNG', '출범/NNG', '개인/NNG', '신용/NNG', '대출상품..."
      ]
     },
     "execution_count": 178,
     "metadata": {},
     "output_type": "execute_result"
    }
   ],
   "source": [
    "news_tokens['date'] = pd.to_datetime(news_tokens['date'].astype('str'))"
   ]
  },
  {
   "cell_type": "code",
   "execution_count": 179,
   "metadata": {},
   "outputs": [
    {
     "data": {
      "text/html": [
       "<div>\n",
       "<style scoped>\n",
       "    .dataframe tbody tr th:only-of-type {\n",
       "        vertical-align: middle;\n",
       "    }\n",
       "\n",
       "    .dataframe tbody tr th {\n",
       "        vertical-align: top;\n",
       "    }\n",
       "\n",
       "    .dataframe thead th {\n",
       "        text-align: right;\n",
       "    }\n",
       "</style>\n",
       "<table border=\"1\" class=\"dataframe\">\n",
       "  <thead>\n",
       "    <tr style=\"text-align: right;\">\n",
       "      <th></th>\n",
       "      <th>date</th>\n",
       "      <th>tokens</th>\n",
       "    </tr>\n",
       "  </thead>\n",
       "  <tbody>\n",
       "    <tr>\n",
       "      <th>212535</th>\n",
       "      <td>2017-12-31</td>\n",
       "      <td>['은행/NNG', '곳/NNG', '금리/NNG', '최대/NNG', '오르/VV...</td>\n",
       "    </tr>\n",
       "    <tr>\n",
       "      <th>212536</th>\n",
       "      <td>2017-12-31</td>\n",
       "      <td>['삼정/NNG', '안보리/NNG', '제재/NNG', '반대/NNG', '블랙리...</td>\n",
       "    </tr>\n",
       "    <tr>\n",
       "      <th>212537</th>\n",
       "      <td>2017-12-31</td>\n",
       "      <td>['신년사/NNG', '미/NNG', 'fed/NNG', '금리/NNG', '인상/...</td>\n",
       "    </tr>\n",
       "    <tr>\n",
       "      <th>212538</th>\n",
       "      <td>2017-12-31</td>\n",
       "      <td>['제공/NNG', '가상화폐/NNG', '거래/NNG', '금융안정/NNG', '...</td>\n",
       "    </tr>\n",
       "    <tr>\n",
       "      <th>212539</th>\n",
       "      <td>2017-12-31</td>\n",
       "      <td>['판매/NNG', '정기/NNG', '예금/NNG', '중/NNG', '금리/NN...</td>\n",
       "    </tr>\n",
       "  </tbody>\n",
       "</table>\n",
       "</div>"
      ],
      "text/plain": [
       "             date                                             tokens\n",
       "212535 2017-12-31  ['은행/NNG', '곳/NNG', '금리/NNG', '최대/NNG', '오르/VV...\n",
       "212536 2017-12-31  ['삼정/NNG', '안보리/NNG', '제재/NNG', '반대/NNG', '블랙리...\n",
       "212537 2017-12-31  ['신년사/NNG', '미/NNG', 'fed/NNG', '금리/NNG', '인상/...\n",
       "212538 2017-12-31  ['제공/NNG', '가상화폐/NNG', '거래/NNG', '금융안정/NNG', '...\n",
       "212539 2017-12-31  ['판매/NNG', '정기/NNG', '예금/NNG', '중/NNG', '금리/NN..."
      ]
     },
     "execution_count": 179,
     "metadata": {},
     "output_type": "execute_result"
    }
   ],
   "source": [
    "news_tokens = news_tokens.sort_values(by='date',axis=0)\n",
    "news_tokens.index = range(len(news_tokens))\n",
    "num = news_tokens[news_tokens['date']=='2018-01-01'].index[0]\n",
    "news_tokens = news_tokens[:num]"
   ]
  },
  {
   "cell_type": "code",
   "execution_count": null,
   "metadata": {},
   "outputs": [],
   "source": [
    "label_with_callrate = pd.read_csv('labeling_with_callrate.csv', index_col = 0)\n",
    "label_with_callrate['date'] = pd.to_datetime(label_with_callrate['date'])\n",
    "del label_with_callrate['close']"
   ]
  },
  {
   "cell_type": "code",
   "execution_count": 205,
   "metadata": {},
   "outputs": [],
   "source": [
    "news_tokens = pd.DataFrame({'date':news_tokens['date'],\n",
    "                            'tokens':news_tokens['tokens'],\n",
    "                           'ngrams':None})\n",
    "news_tokens = news_tokens.merge(label_with_callrate, on='date', how='outer')"
   ]
  },
  {
   "cell_type": "code",
   "execution_count": 214,
   "metadata": {},
   "outputs": [],
   "source": [
    "news_tokens = news_tokens.fillna('[]')"
   ]
  },
  {
   "cell_type": "code",
   "execution_count": 217,
   "metadata": {},
   "outputs": [],
   "source": [
    "news_tokens.to_csv('news_tokens_withNone.csv')"
   ]
  },
  {
   "cell_type": "code",
   "execution_count": null,
   "metadata": {},
   "outputs": [],
   "source": []
  }
 ],
 "metadata": {
  "kernelspec": {
   "display_name": "Python 3",
   "language": "python",
   "name": "python3"
  },
  "language_info": {
   "codemirror_mode": {
    "name": "ipython",
    "version": 3
   },
   "file_extension": ".py",
   "mimetype": "text/x-python",
   "name": "python",
   "nbconvert_exporter": "python",
   "pygments_lexer": "ipython3",
   "version": "3.6.8"
  }
 },
 "nbformat": 4,
 "nbformat_minor": 2
}
