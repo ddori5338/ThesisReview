{
 "cells": [
  {
   "cell_type": "code",
   "execution_count": 1,
   "metadata": {},
   "outputs": [],
   "source": [
    "import os\n",
    "import numpy as np\n",
    "import pandas as pd\n",
    "import glob"
   ]
  },
  {
   "cell_type": "code",
   "execution_count": 2,
   "metadata": {},
   "outputs": [],
   "source": [
    "from ekonlpy.sentiment import MPCK\n",
    "\n",
    "def text2tokens(text):\n",
    "    return MPCK().tokenize(text)\n",
    "\n",
    "def text2ngram(text):\n",
    "    mpck = MPCK()\n",
    "    bef_tokens = mpck.tokenize(text)\n",
    "    ngrams = mpck.ngramize(bef_tokens)\n",
    "    \n",
    "    return ngrams"
   ]
  },
  {
   "cell_type": "code",
   "execution_count": 3,
   "metadata": {},
   "outputs": [],
   "source": [
    "def getReadCSV():\n",
    "    #get DATASET PATH\n",
    "    BASE_DIR = os.getcwd()\n",
    "    DATASET_PATH = os.path.join(BASE_DIR, u\"data\")\n",
    "    \n",
    "    #get DATASET LIST \n",
    "    file_list = os.listdir(DATASET_PATH)\n",
    "    \n",
    "    #set DATAFRAME\n",
    "    allFiles = glob.glob(DATASET_PATH + \"/*.csv\")\n",
    "    allFiles.sort()\n",
    "    frame = pd.DataFrame()\n",
    "    list_ = []\n",
    "    for file_ in allFiles:\n",
    "        df = pd.read_csv(file_,index_col=None, header=0)\n",
    "        list_.append(df)\n",
    "    frame = pd.concat(list_)\n",
    "    del frame['time']\n",
    "    return frame"
   ]
  },
  {
   "cell_type": "code",
   "execution_count": 4,
   "metadata": {},
   "outputs": [],
   "source": [
    "import re\n",
    "\n",
    "def doFiltering(inputStr):\n",
    "    filtering = re.sub(r\"(\\(.?끝.?\\))|(.?안방에서 만나는 가장.*)|(\\(.*?=.?연합뉴스.?\\)(.*(기자|특파원).*=.?)?)|(\\[.{0,5}(edaily|이데일리).{0,20}(특파원|기자|증권부|채권외환팀|국제부|.?럼니스트|경제부장|보도제작부|시장부)?.?\\].?)|(.{0,4}(기자|.{0,5}?특파원).?().{0,10}@\\))|(\\((.{0,2}(각 기관별|전문가별|이 인터뷰는|이 기사는|더 자세한|보다).+)?이데일리 유료.+다.{0,2}\\))|(당사의 기사를 사전 동의.*)|(자신만만 재테크.+)|(＜?저작권자.*)\",'',str(inputStr))\n",
    "\n",
    "    chkStr = re.compile(r'(\\<span class\\=.*)')\n",
    "    if chkStr.search(filtering):\n",
    "        filtering = filtering.split(chkStr.search(filtering).group())[0].strip()\n",
    "    return filtering"
   ]
  },
  {
   "cell_type": "code",
   "execution_count": 6,
   "metadata": {},
   "outputs": [],
   "source": [
    "def setDataFrame(frame):\n",
    "    #delete NaN column, NaN row\n",
    "    frame['date'] = pd.to_numeric(frame['date'], errors='coerce')\n",
    "    frame = frame.dropna()\n",
    "    frame['date'] = frame['date'].astype(int)\n",
    "    dateList = list(frame['date'])\n",
    "    \n",
    "    filteredList = []\n",
    "    cnt = 0\n",
    "    for i in list(frame['content']):\n",
    "        filteredList.append(doFiltering(i))\n",
    "\n",
    "        cnt+=1\n",
    "        if cnt%50000 == 0:\n",
    "            print(\"{}개\".format(cnt))\n",
    "\n",
    "    print(\"contentList = {}개\".format(len(filteredList)))\n",
    "    print(\"dateList = {}개\".format(len(dateList)))\n",
    "    \n",
    "    return filteredList, dateList"
   ]
  },
  {
   "cell_type": "code",
   "execution_count": 12,
   "metadata": {},
   "outputs": [],
   "source": [
    "from threading import Thread\n",
    "import time\n",
    "def myThread(contList, idx):\n",
    "    cnt=0\n",
    "    ngramList = []\n",
    "    tokenList = []\n",
    "    now = time.localtime()\n",
    "    print(\"%d번 쓰레드 시작, %04d/%02d/%02d %02d:%02d:%02d\" % (idx, now.tm_year, now.tm_mon, now.tm_mday, now.tm_hour, now.tm_min, now.tm_sec))\n",
    "            \n",
    "    for val in contList:\n",
    "        ngramList.append(text2ngram(val))\n",
    "        tokenList.append(text2tokens(val))\n",
    "       \n",
    "        cnt+=1\n",
    "        if cnt==100:\n",
    "            now = time.localtime()\n",
    "            print(\"%d번 쓰레드 %d개, %04d/%02d/%02d %02d:%02d:%02d\" % (idx, cnt, now.tm_year, now.tm_mon, now.tm_mday, now.tm_hour, now.tm_min, now.tm_sec))\n",
    "            \n",
    "        if cnt%10000 == 0:\n",
    "            now = time.localtime()\n",
    "            print(\"%d번 쓰레드 %d개, %04d/%02d/%02d %02d:%02d:%02d\" % (idx, cnt, now.tm_year, now.tm_mon, now.tm_mday, now.tm_hour, now.tm_min, now.tm_sec))\n",
    "            \n",
    "    return ngramList, tokenList\n"
   ]
  },
  {
   "cell_type": "code",
   "execution_count": 8,
   "metadata": {},
   "outputs": [],
   "source": [
    "import time\n",
    "import queue\n",
    "\n",
    "def getTokenNgramDF(contList, dateList):\n",
    "    if not len(contList) == len(dateList): return None\n",
    "    cnt = 0\n",
    "    ngramList = []\n",
    "    tokenList = []\n",
    "    \n",
    "    \n",
    "    que = queue.Queue()\n",
    "    threads_list = list()\n",
    "    #244495\n",
    "    #0~49999\n",
    "    #50000~99999\n",
    "    #100000~149999\n",
    "    #150000~199999\n",
    "    #200000~244494\n",
    "    \n",
    "    t1 = Thread(target=lambda q, arg1: q.put(myThread(arg1,1)), args=(que, contList[:50000]))\n",
    "    t1.start()\n",
    "    threads_list.append(t1)\n",
    "    \n",
    "    t2 = Thread(target=lambda q, arg1: q.put(myThread(arg1,2)), args=(que, contList[50000:100000]))\n",
    "    t2.start()\n",
    "    threads_list.append(t2)\n",
    "    \n",
    "    t3 = Thread(target=lambda q, arg1: q.put(myThread(arg1,3)), args=(que, contList[100000:150000]))\n",
    "    t3.start()\n",
    "    threads_list.append(t3)\n",
    "    \n",
    "    t4 = Thread(target=lambda q, arg1: q.put(myThread(arg1,4)), args=(que, contList[150000:200000]))\n",
    "    t4.start()\n",
    "    threads_list.append(t4)\n",
    "\n",
    "    t5 = Thread(target=lambda q, arg1: q.put(myThread(arg1,5)), args=(que, contList[200000:]))\n",
    "    t5.start()\n",
    "    threads_list.append(t5)\n",
    "    now = time.localtime()\n",
    "    print(\"1~5쓰레드 시작, %04d/%02d/%02d %02d:%02d:%02d\" % (now.tm_year, now.tm_mon, now.tm_mday, now.tm_hour, now.tm_min, now.tm_sec))\n",
    "\n",
    "    \n",
    "    for t in threads_list:\n",
    "        t.join()\n",
    "    \n",
    "    now = time.localtime()\n",
    "    print (\"1~5쓰레드 병합, %04d/%02d/%02d %02d:%02d:%02d\" % (now.tm_year, now.tm_mon, now.tm_mday, now.tm_hour, now.tm_min, now.tm_sec))\n",
    "\n",
    "\n",
    "    while not que.empty():\n",
    "        result = que.get()\n",
    "        ngramList.extend(result[0])\n",
    "        tokenList.extend(result[1])\n",
    "        \n",
    "    resultDf = pd.DataFrame({  \n",
    "                            'date' : dateList,\n",
    "                            'ngrams' : ngramList,\n",
    "                            'tokens' : tokenList\n",
    "                        })\n",
    "    \n",
    "    now = time.localtime()\n",
    "    print (\"DF 생성 완료, %04d/%02d/%02d %02d:%02d:%02d\" % (now.tm_year, now.tm_mon, now.tm_mday, now.tm_hour, now.tm_min, now.tm_sec))\n",
    "\n",
    "\n",
    "    if len(ngramList) == len(tokenList):\n",
    "        print(\"{}개의 기사에 대한 Tokens, Ngrams 추출\".format(len(ngramList)))\n",
    "    else: \n",
    "        print(\"실패\")\n",
    "        \n",
    "    return resultDf"
   ]
  },
  {
   "cell_type": "code",
   "execution_count": 9,
   "metadata": {
    "collapsed": true
   },
   "outputs": [
    {
     "data": {
      "text/html": [
       "<div>\n",
       "<style scoped>\n",
       "    .dataframe tbody tr th:only-of-type {\n",
       "        vertical-align: middle;\n",
       "    }\n",
       "\n",
       "    .dataframe tbody tr th {\n",
       "        vertical-align: top;\n",
       "    }\n",
       "\n",
       "    .dataframe thead th {\n",
       "        text-align: right;\n",
       "    }\n",
       "</style>\n",
       "<table border=\"1\" class=\"dataframe\">\n",
       "  <thead>\n",
       "    <tr style=\"text-align: right;\">\n",
       "      <th></th>\n",
       "      <th>content</th>\n",
       "      <th>date</th>\n",
       "      <th>href</th>\n",
       "      <th>title</th>\n",
       "    </tr>\n",
       "  </thead>\n",
       "  <tbody>\n",
       "    <tr>\n",
       "      <th>0</th>\n",
       "      <td>(서울=연합뉴스) 김문성기자= 국고채 발행 물량 부담에 따른 채권 금리의  급등세가...</td>\n",
       "      <td>20050104.0</td>\n",
       "      <td>https://news.naver.com/main/read.nhn?mode=LSD&amp;...</td>\n",
       "      <td>&lt;채권&gt; 금리 주춤..물량 충격 다소 진정</td>\n",
       "    </tr>\n",
       "    <tr>\n",
       "      <th>1</th>\n",
       "      <td>[edaily 이학선기자] 채권수익률이 4일 국고채 10년물 등 장기물 중심의 약세...</td>\n",
       "      <td>20050104.0</td>\n",
       "      <td>https://news.naver.com/main/read.nhn?mode=LSD&amp;...</td>\n",
       "      <td>장기채 금리 또 상승..`3년물로 갈아타자`(마감)</td>\n",
       "    </tr>\n",
       "    <tr>\n",
       "      <th>2</th>\n",
       "      <td>[edaily 하정민기자] 미국 주식시장이 새해 첫 날 큰 폭 하락하며 불안한 출발...</td>\n",
       "      <td>20050104.0</td>\n",
       "      <td>https://news.naver.com/main/read.nhn?mode=LSD&amp;...</td>\n",
       "      <td>(뉴욕프리뷰)조정을 두려워말라</td>\n",
       "    </tr>\n",
       "    <tr>\n",
       "      <th>3</th>\n",
       "      <td>[edaily 오상용기자] 2005년 세계 경제와 금융시장은 어떤 행보를 그릴 것인...</td>\n",
       "      <td>20050104.0</td>\n",
       "      <td>https://news.naver.com/main/read.nhn?mode=LSD&amp;...</td>\n",
       "      <td>`2005년 세계경제 10대 서프라이즈`</td>\n",
       "    </tr>\n",
       "    <tr>\n",
       "      <th>4</th>\n",
       "      <td>(서울=연합뉴스) 최태용기자= 중소기업청은 올해 3조원 규모의 중소기업 정책자금 지...</td>\n",
       "      <td>20050109.0</td>\n",
       "      <td>https://news.naver.com/main/read.nhn?mode=LSD&amp;...</td>\n",
       "      <td>중기청 3조원 규모 정책자금 지원</td>\n",
       "    </tr>\n",
       "  </tbody>\n",
       "</table>\n",
       "</div>"
      ],
      "text/plain": [
       "                                             content        date  \\\n",
       "0  (서울=연합뉴스) 김문성기자= 국고채 발행 물량 부담에 따른 채권 금리의  급등세가...  20050104.0   \n",
       "1  [edaily 이학선기자] 채권수익률이 4일 국고채 10년물 등 장기물 중심의 약세...  20050104.0   \n",
       "2  [edaily 하정민기자] 미국 주식시장이 새해 첫 날 큰 폭 하락하며 불안한 출발...  20050104.0   \n",
       "3  [edaily 오상용기자] 2005년 세계 경제와 금융시장은 어떤 행보를 그릴 것인...  20050104.0   \n",
       "4  (서울=연합뉴스) 최태용기자= 중소기업청은 올해 3조원 규모의 중소기업 정책자금 지...  20050109.0   \n",
       "\n",
       "                                                href  \\\n",
       "0  https://news.naver.com/main/read.nhn?mode=LSD&...   \n",
       "1  https://news.naver.com/main/read.nhn?mode=LSD&...   \n",
       "2  https://news.naver.com/main/read.nhn?mode=LSD&...   \n",
       "3  https://news.naver.com/main/read.nhn?mode=LSD&...   \n",
       "4  https://news.naver.com/main/read.nhn?mode=LSD&...   \n",
       "\n",
       "                          title  \n",
       "0       <채권> 금리 주춤..물량 충격 다소 진정  \n",
       "1  장기채 금리 또 상승..`3년물로 갈아타자`(마감)  \n",
       "2              (뉴욕프리뷰)조정을 두려워말라  \n",
       "3        `2005년 세계경제 10대 서프라이즈`  \n",
       "4            중기청 3조원 규모 정책자금 지원  "
      ]
     },
     "execution_count": 9,
     "metadata": {},
     "output_type": "execute_result"
    }
   ],
   "source": [
    "rawDF = getReadCSV()\n",
    "rawDF.head(5)"
   ]
  },
  {
   "cell_type": "code",
   "execution_count": 10,
   "metadata": {
    "collapsed": true
   },
   "outputs": [
    {
     "name": "stderr",
     "output_type": "stream",
     "text": [
      "/usr/local/lib/python3.5/dist-packages/ipykernel_launcher.py:5: SettingWithCopyWarning: \n",
      "A value is trying to be set on a copy of a slice from a DataFrame.\n",
      "Try using .loc[row_indexer,col_indexer] = value instead\n",
      "\n",
      "See the caveats in the documentation: http://pandas.pydata.org/pandas-docs/stable/indexing.html#indexing-view-versus-copy\n",
      "  \"\"\"\n"
     ]
    },
    {
     "name": "stdout",
     "output_type": "stream",
     "text": [
      "50000개\n",
      "100000개\n",
      "150000개\n",
      "200000개\n",
      "contentList = 244495개\n",
      "dateList = 244495개\n",
      "2005년 세계 경제와 금융시장은 어떤 행보를 그릴 것인가. 4일 모건스탠리의 유명 이코노미스트 바이런 위엔은 `미국 투자전략` 보고서를 통해 올 한해 세계경제와 금융시장을 엄습할 10대 충격을 예언했다. 위엔은 10가지 서프라이즈가 현실화될 가능성이 33%로 예상됐지만, 자신은 현실화 가능성이 50%에 달할 것으로 본다고 단언했다.위엔은 \"유가는 배럴당 30달러~60달러대를 넘나들며 불안한 모습을 지속하고, 중국은 환율제도 변경을 거부할 것\"으로 내다봤다. 또 일본 경제는 다시 침체의 늪으로 빠지고, 러시아의 블라디미르 푸틴 대통령은 제2의 러시아 혁명으로 권좌에서 물러날 것으로 예측했다.다음은 위엔이 예언한 2005년 금융시장을 강타할 10대 충격이다.위엔은 지난해에도 오사마 빈 라덴의 생포,도널드 럼스펠드 국방장관및 딕 체니 부통령 사임 등 10가지를 예측했으나 이중 2-3가지만 적중했다.◇유가 변동성 지속..배럴당 30달러~60달러국제유가는 올 한해 가장 변동성이 큰 상품이 될 것이다. 유가(서부텍사스산중질유 기준)는 배럴당 30달러까지 떨어진 후, 수급 불균형과 수송차질로 60달러선까지 치솟을 것이다. 미국의 전략비축유 감축 가능성은 전혀 없다. 다만, 알래스카 야생보호구역의 유전발굴 계획은 미 의회를 통과할 것이다.◇달러 급락할 것..달러/엔 85엔까지 하락달러는 하락세를 지속한다. 하락 속도는 시장의 기대와는 반대로 급락세가 불가피하다. 부시 행정부는 표면적으로 강달러 정책을 지지하겠지만, 환율은 외환시장의 결정에 맡겨둘 것이다. 결국 달러/엔 환율은 85엔까지 하락(달러 약세)하고, 유로/달러 환율도 1.5달러에 달할 것이다. 유럽과 일본은 엔과 유로화 급등을 제어하기 위해 `제2의 루브르협정`을 미국에 요구할 가능성이 크다. 루브르협정은 지난 87년 플라자협정 후 달러가치가 급락하자, 선진 5개국이 파리 모여 달러가치 회복을 위해 체결한 협정이다. 올 한해 달러 약세가 지속되겠지만, 미국의 무역적자는 줄지 않고 더 확대될 것이다.◇하반기 미 국채 수익률 6.0% 도달올 하반기 미국 국채 수익률은 6.0%까지 상승(채권가격 하락)하겠다. 이는 달러 약세로 인해 일본과 중국이 미 국채 매수를 줄일 것이기 때문이다. 미국의 물가상승률이 완만한 수준을 유지하고 경기 과열양상도 고개를 들지 않겠지만, 연방준비제도이사회(FRB)의 금리인상 행진은 멈추지 않을 것이다. 올 연말 연준리의 기준금리 목표치는 현행 2.25%에서 4.25%로 올라설 것이다. 앨런 그린스펀 FRB의장도 \"너무 오랜 기간 저금리 상태에 머물러 있었다\"는 점을 인정할 것이다.◇미 증시 횡보세..S&P보합으로 마감지난 2년간 강세를 보였던 미국 증시는 방향성을 상실하겠다. 미국 증시는 연준리의 금리 인상과 ▲투자자들의 과도한 낙관론 ▲지정학적 긴장감 지속 ▲달러 하락 ▲한계에 달한 민간 소비 등에 시시각각 반응하며 등락을 거듭하겠다. S&P500지수는 기업실적 개선과 미국경제의 견조세에도 보합세로 올 한해를 마감할 것이다.◇중국 환율제 개혁 거부관심을 모으고 있는 중국 정부의 고정환율제 변경은 연내 실현이 힘들겠다. 교역상대국의 거센 압력에도 중국 정부는 위안화 변동제를 도입하지 않을 것이다. 중국은 경제 안정과 고용 증대, 개혁 지속 등을 내세워 바스켓통화제의 도입도 거부할 것이다. 올해 중국 경제는 서부지역 개발에 힘입어 9%대의 성장세를 지속할 것이다. 중국발 상품·원자재 가격 상승세는 멈추지 않겠다.◇日경기 다시 뒷걸음..닛케이 1만선으로 하락일본 경제는 다시 뒷걸음을 치겠다. 엔화 강세가 지속되는 가운데 대중국 수출이 일본 경제 성장세를 더 이상 떠받치기는 힘들 것이다. 일본 경제에 대한 투자자들의 불안이 가중되면서 닛케이225 지수는 다시 1만선으로 떨어질 것이다.◇제2의 러시아 혁명..푸틴 정부 몰락러시아 푸틴정부는 `제2의 러시아 혁명`으로 몰락할 것이다. 우크라이나 대선을 둘러싼 온갖 비리가 폭로되고 민중들의 분노는 제2의 러시아 혁명을 촉발할 것이다. 결국 푸틴은 권좌에서 물러날 수 밖에 없다. 러시아 경제는 침체되고 루블화 가치도 떨어져 주식시장의 주요지수는 25% 급락할 것이다.◇에너지 업종 강세 지속올 미국 증시에서 석유·가스 등 에너지 관련 업종이 높은 상승세를 나타내겠다.  석탄업종 역시 석탄 수요 증가세로 상승폭이 두드러지겠다.◇곡물 흉작..가격 급등옥수수와 콩 등 곡물가격은 급등세를 타겠다. 지난해 흉작에 이어 올 여름 냉해와 기온 급등 등 이상기후로 작황이 좋지 않을 것이기 때문이다.◇부시정부, 사회보장제도 개혁 무위에 그쳐조지 W.부시 대통령이 대선 공약으로 내걸었던 사회보장제도 개혁은 무위에 그치겠다. 공화당과 민주당은 높은 전환 비용과 불확실한 효과를 들어 부분적인 사회보장제도 민영화를 반대할 것이다. 그러나 집단소송제도는 지금보다 완화될 가능성이 크다.Copyrightⓒ 2000-2005 edaily. All rights reserved.오상용 기자 () 20050104\n"
     ]
    }
   ],
   "source": [
    "contentList, dateList = setDataFrame(rawDF)\n",
    "print(contentList[3], dateList[3])"
   ]
  },
  {
   "cell_type": "code",
   "execution_count": 11,
   "metadata": {},
   "outputs": [
    {
     "data": {
      "text/plain": [
       "244495"
      ]
     },
     "execution_count": 11,
     "metadata": {},
     "output_type": "execute_result"
    }
   ],
   "source": [
    "len(contentList)"
   ]
  },
  {
   "cell_type": "code",
   "execution_count": null,
   "metadata": {
    "scrolled": false
   },
   "outputs": [
    {
     "name": "stdout",
     "output_type": "stream",
     "text": [
      "1번 쓰레드 시작, 2019/07/25 16:36:12\n",
      "2번 쓰레드 시작, 2019/07/25 16:36:12\n",
      "3번 쓰레드 시작, 2019/07/25 16:36:12\n",
      "4번 쓰레드 시작, 2019/07/25 16:36:12\n",
      "5번 쓰레드 시작, 2019/07/25 16:36:12\n",
      "1~5쓰레드 시작, 2019/07/25 16:36:12\n",
      "2번 쓰레드 100개, 2019/07/25 16:40:17\n",
      "5번 쓰레드 100개, 2019/07/25 16:40:20\n",
      "3번 쓰레드 100개, 2019/07/25 16:40:22\n",
      "1번 쓰레드 100개, 2019/07/25 16:40:23\n",
      "4번 쓰레드 100개, 2019/07/25 16:40:25\n"
     ]
    }
   ],
   "source": [
    "resultDF = getTokenNgramDF(contentList, dateList)"
   ]
  },
  {
   "cell_type": "code",
   "execution_count": null,
   "metadata": {},
   "outputs": [],
   "source": [
    "resultDF.to_csv(\"news_[2005-2017]_cp949.csv\", index = None, encoding=\"cp949\")\n",
    "resultDF.to_csv(\"news_[2005-2017].csv\", index = None)"
   ]
  },
  {
   "cell_type": "code",
   "execution_count": null,
   "metadata": {},
   "outputs": [],
   "source": []
  }
 ],
 "metadata": {
  "kernelspec": {
   "display_name": "Python 3",
   "language": "python",
   "name": "python3"
  },
  "language_info": {
   "codemirror_mode": {
    "name": "ipython",
    "version": 3
   },
   "file_extension": ".py",
   "mimetype": "text/x-python",
   "name": "python",
   "nbconvert_exporter": "python",
   "pygments_lexer": "ipython3",
   "version": "3.6.8"
  }
 },
 "nbformat": 4,
 "nbformat_minor": 2
}
