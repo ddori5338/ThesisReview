{
 "cells": [
  {
   "cell_type": "code",
   "execution_count": 11,
   "metadata": {},
   "outputs": [],
   "source": [
    "from bs4 import BeautifulSoup\n",
    "import requests\n",
    "import re"
   ]
  },
  {
   "cell_type": "code",
   "execution_count": 5,
   "metadata": {},
   "outputs": [],
   "source": [
    "URL = \"http://www.bok.or.kr/portal/singl/baseRate/list.do?dataSeCd=01&menuNo=200643\"\n",
    "\n",
    "resp = requests.get(URL)\n",
    "soup = BeautifulSoup(resp.content, \"html.parser\")"
   ]
  },
  {
   "cell_type": "code",
   "execution_count": 19,
   "metadata": {
    "collapsed": true
   },
   "outputs": [
    {
     "data": {
      "text/plain": [
       "[{'date': '20181130', 'baseRate': '1.75'},\n",
       " {'date': '20171130', 'baseRate': '1.50'},\n",
       " {'date': '20160609', 'baseRate': '1.25'},\n",
       " {'date': '20150611', 'baseRate': '1.50'},\n",
       " {'date': '20150312', 'baseRate': '1.75'},\n",
       " {'date': '20141015', 'baseRate': '2.00'},\n",
       " {'date': '20140814', 'baseRate': '2.25'},\n",
       " {'date': '20130509', 'baseRate': '2.50'},\n",
       " {'date': '20121011', 'baseRate': '2.75'},\n",
       " {'date': '20120712', 'baseRate': '3.00'},\n",
       " {'date': '20110610', 'baseRate': '3.25'},\n",
       " {'date': '20110310', 'baseRate': '3.00'},\n",
       " {'date': '20110113', 'baseRate': '2.75'},\n",
       " {'date': '20101116', 'baseRate': '2.50'},\n",
       " {'date': '20100709', 'baseRate': '2.25'},\n",
       " {'date': '20090212', 'baseRate': '2.00'},\n",
       " {'date': '20090109', 'baseRate': '2.50'},\n",
       " {'date': '20081211', 'baseRate': '3.00'},\n",
       " {'date': '20081107', 'baseRate': '4.00'},\n",
       " {'date': '20081027', 'baseRate': '4.25'},\n",
       " {'date': '20081009', 'baseRate': '5.00'},\n",
       " {'date': '20080807', 'baseRate': '5.25'},\n",
       " {'date': '20070809', 'baseRate': '5.00'},\n",
       " {'date': '20070712', 'baseRate': '4.75'},\n",
       " {'date': '20060810', 'baseRate': '4.50'},\n",
       " {'date': '20060608', 'baseRate': '4.25'},\n",
       " {'date': '20060209', 'baseRate': '4.00'},\n",
       " {'date': '20051208', 'baseRate': '3.75'},\n",
       " {'date': '20051011', 'baseRate': '3.50'},\n",
       " {'date': '20041111', 'baseRate': '3.25'},\n",
       " {'date': '20040812', 'baseRate': '3.50'},\n",
       " {'date': '20030710', 'baseRate': '3.75'},\n",
       " {'date': '20030513', 'baseRate': '4.00'},\n",
       " {'date': '20020507', 'baseRate': '4.25'},\n",
       " {'date': '20010919', 'baseRate': '4.00'},\n",
       " {'date': '20010809', 'baseRate': '4.50'},\n",
       " {'date': '20010705', 'baseRate': '4.75'},\n",
       " {'date': '20010208', 'baseRate': '5.00'},\n",
       " {'date': '20001005', 'baseRate': '5.25'},\n",
       " {'date': '20000210', 'baseRate': '5.00'},\n",
       " {'date': '19990506', 'baseRate': '4.75'}]"
      ]
     },
     "execution_count": 19,
     "metadata": {},
     "output_type": "execute_result"
    }
   ],
   "source": [
    "\n",
    "baseRateList = []\n",
    "p = re.compile('[\\d]')\n",
    "for i in soup.find(\"table\", class_ = \"fixed\").find(\"tbody\"):\n",
    "    try:\n",
    "        tempDic = {}\n",
    "        source = i.text.strip().split(\"\\n\")\n",
    "        tempDic['date'] = source[0]+\"\".join(p.findall(source[1]))\n",
    "        tempDic['baseRate'] = source[2]\n",
    "        \n",
    "        baseRateList.append(tempDic)\n",
    "    except:\n",
    "        pass\n",
    "    \n",
    "baseRateList"
   ]
  },
  {
   "cell_type": "code",
   "execution_count": null,
   "metadata": {},
   "outputs": [],
   "source": [
    "with open(\"기준금리.json\", 'w', encoding='utf-8') as file :\n",
    "            json.dump(output, file, ensure_ascii=False, indent='\\t')"
   ]
  }
 ],
 "metadata": {
  "kernelspec": {
   "display_name": "base",
   "language": "python",
   "name": "base"
  },
  "language_info": {
   "codemirror_mode": {
    "name": "ipython",
    "version": 3
   },
   "file_extension": ".py",
   "mimetype": "text/x-python",
   "name": "python",
   "nbconvert_exporter": "python",
   "pygments_lexer": "ipython3",
   "version": "3.7.0"
  }
 },
 "nbformat": 4,
 "nbformat_minor": 2
}
